{
 "cells": [
  {
   "cell_type": "markdown",
   "metadata": {},
   "source": [
    "Background:\n",
    "\n",
    "We are one of the fastest growing startups in the logistics and delivery domain. We work with several partners and make on-demand delivery to our customers. During the COVID-19 pandemic, we are facing several different challenges and everyday we are trying to address these challenges.\n",
    "\n",
    "We thrive on making our customers happy. As a growing startup, with a global expansion strategy we know that we need to make our customers happy and the only way to do that is to measure how happy each customer is. If we can predict what makes our customers happy or unhappy, we can then take necessary actions.\n",
    "\n",
    "Getting feedback from customers is not easy either, but we do our best to get constant feedback from our customers. This is a crucial function to improve our operations across all levels.\n",
    "\n",
    "We recently did a survey to a select customer cohort. You are presented with a subset of this data. We will be using the remaining data as a private test set.\n"
   ]
  },
  {
   "cell_type": "markdown",
   "metadata": {},
   "source": [
    "Data Description:\n",
    "Y = target attribute (Y) with values indicating 0 (unhappy) and 1 (happy) customers\n",
    "\n",
    "X1 = my order was delivered on time\n",
    "\n",
    "X2 = contents of my order was as I expected\n",
    "\n",
    "X3 = I ordered everything I wanted to order\n",
    "\n",
    "X4 = I paid a good price for my order\n",
    "\n",
    "X5 = I am satisfied with my courier\n",
    "\n",
    "X6 = the app makes ordering easy for me\n",
    "\n",
    "Attributes X1 to X6 indicate the responses for each question and have values from 1 to 5 where the smaller number indicates less and the higher number indicates more towards the answer."
   ]
  },
  {
   "cell_type": "markdown",
   "metadata": {},
   "source": [
    "Goal(s):\n",
    "\n",
    "Predict if a customer is happy or not based on the answers they give to questions asked.\n",
    "\n",
    "Success Metrics:\n",
    "\n",
    "Reach 73% accuracy score or above, or convince us why your solution is superior. We are definitely interested in every solution and insight you can provide us.\n",
    "\n",
    "Try to submit your working solution as soon as possible. The sooner the better.\n",
    "\n",
    "Bonus(es):\n",
    "\n",
    "We are very interested in finding which questions/features are more important when predicting a customer’s happiness. Using a feature selection approach show us understand what is the minimal set of attributes/features that would preserve the most information about the problem while increasing predictability of the data we have. Is there any question that we can remove in our next survey?\n",
    "\n"
   ]
  },
  {
   "cell_type": "code",
   "execution_count": 1,
   "metadata": {},
   "outputs": [],
   "source": [
    "# import modules\n",
    "import random\n",
    "import os\n",
    "import warnings\n",
    "# ignore warnings\n",
    "warnings.filterwarnings('ignore')\n",
    "\n",
    "# import libraries\n",
    "import pandas as pd\n",
    "import numpy as np\n",
    "import matplotlib.pyplot as plt\n",
    "import seaborn as sns\n",
    "%matplotlib inline \n",
    "\n",
    "# Import scikit-learn tools, grid search cross validation, and classifiers\n",
    "\n",
    "from sklearn import metrics\n",
    "from sklearn.metrics import f1_score, precision_score, recall_score, accuracy_score, confusion_matrix,\\\n",
    "roc_auc_score, roc_curve, classification_report\n",
    "from sklearn.model_selection import train_test_split, cross_val_score,RandomizedSearchCV,GridSearchCV\n",
    "\n",
    "# import Random Forest Classifier\n",
    "from sklearn.ensemble import RandomForestClassifier\n",
    "\n",
    "# import Logistic Regression CV Classifier\n",
    "from sklearn.linear_model import LogisticRegression\n",
    "\n",
    "# import pipeline and scaler\n",
    "from sklearn.pipeline import Pipeline\n",
    "from sklearn.pipeline import make_pipeline\n",
    "from sklearn.preprocessing import StandardScaler\n",
    "\n",
    "#import xgboost as xgb\n",
    "from xgboost import XGBClassifier\n",
    "from lightgbm import LGBMClassifier\n",
    "from sklearn.linear_model import SGDClassifier\n",
    "from scipy.stats import randint as sp_randint\n",
    "from scipy.stats import uniform as sp_uniform\n",
    "from scipy.stats import randint, uniform\n",
    "import scipy.stats as stats\n",
    "from sklearn.utils.fixes import loguniform\n",
    "\n",
    "# import Recursive Feature Elimination (RFE)\n",
    "from sklearn.feature_selection import RFE\n",
    "\n",
    "# import stacking classifier\n",
    "from sklearn.ensemble import StackingClassifier\n",
    "\n",
    "from sklearn.neighbors import KNeighborsClassifier\n",
    "\n",
    "# import lazy predict\n",
    "import lazypredict\n",
    "from lazypredict.Supervised import LazyClassifier\n"
   ]
  },
  {
   "cell_type": "markdown",
   "metadata": {},
   "source": [
    "## Create a function to set global seed"
   ]
  },
  {
   "cell_type": "code",
   "execution_count": 2,
   "metadata": {},
   "outputs": [],
   "source": [
    "def set_seed(seed):\n",
    "    np.random.seed(seed)\n",
    "    random.seed(seed) \n",
    "    os.environ['PYTHONHASHSEED']=str(seed)\n",
    "    print(seed)\n"
   ]
  },
  {
   "cell_type": "markdown",
   "metadata": {},
   "source": [
    "## Pick a value for the seed, and provide to the function"
   ]
  },
  {
   "cell_type": "code",
   "execution_count": 3,
   "metadata": {},
   "outputs": [
    {
     "name": "stdout",
     "output_type": "stream",
     "text": [
      "477\n",
      "Seed_value has been set to 477\n"
     ]
    }
   ],
   "source": [
    "seed = 477\n",
    "set_seed(seed)\n",
    "print('Seed_value has been set to ' + str(seed))"
   ]
  },
  {
   "cell_type": "code",
   "execution_count": 4,
   "metadata": {},
   "outputs": [
    {
     "data": {
      "text/html": [
       "<div>\n",
       "<style scoped>\n",
       "    .dataframe tbody tr th:only-of-type {\n",
       "        vertical-align: middle;\n",
       "    }\n",
       "\n",
       "    .dataframe tbody tr th {\n",
       "        vertical-align: top;\n",
       "    }\n",
       "\n",
       "    .dataframe thead th {\n",
       "        text-align: right;\n",
       "    }\n",
       "</style>\n",
       "<table border=\"1\" class=\"dataframe\">\n",
       "  <thead>\n",
       "    <tr style=\"text-align: right;\">\n",
       "      <th></th>\n",
       "      <th>Y</th>\n",
       "      <th>X1</th>\n",
       "      <th>X2</th>\n",
       "      <th>X3</th>\n",
       "      <th>X4</th>\n",
       "      <th>X5</th>\n",
       "      <th>X6</th>\n",
       "    </tr>\n",
       "  </thead>\n",
       "  <tbody>\n",
       "    <tr>\n",
       "      <th>0</th>\n",
       "      <td>0</td>\n",
       "      <td>3</td>\n",
       "      <td>3</td>\n",
       "      <td>3</td>\n",
       "      <td>4</td>\n",
       "      <td>2</td>\n",
       "      <td>4</td>\n",
       "    </tr>\n",
       "    <tr>\n",
       "      <th>1</th>\n",
       "      <td>0</td>\n",
       "      <td>3</td>\n",
       "      <td>2</td>\n",
       "      <td>3</td>\n",
       "      <td>5</td>\n",
       "      <td>4</td>\n",
       "      <td>3</td>\n",
       "    </tr>\n",
       "    <tr>\n",
       "      <th>2</th>\n",
       "      <td>1</td>\n",
       "      <td>5</td>\n",
       "      <td>3</td>\n",
       "      <td>3</td>\n",
       "      <td>3</td>\n",
       "      <td>3</td>\n",
       "      <td>5</td>\n",
       "    </tr>\n",
       "    <tr>\n",
       "      <th>3</th>\n",
       "      <td>0</td>\n",
       "      <td>5</td>\n",
       "      <td>4</td>\n",
       "      <td>3</td>\n",
       "      <td>3</td>\n",
       "      <td>3</td>\n",
       "      <td>5</td>\n",
       "    </tr>\n",
       "    <tr>\n",
       "      <th>4</th>\n",
       "      <td>0</td>\n",
       "      <td>5</td>\n",
       "      <td>4</td>\n",
       "      <td>3</td>\n",
       "      <td>3</td>\n",
       "      <td>3</td>\n",
       "      <td>5</td>\n",
       "    </tr>\n",
       "  </tbody>\n",
       "</table>\n",
       "</div>"
      ],
      "text/plain": [
       "   Y  X1  X2  X3  X4  X5  X6\n",
       "0  0   3   3   3   4   2   4\n",
       "1  0   3   2   3   5   4   3\n",
       "2  1   5   3   3   3   3   5\n",
       "3  0   5   4   3   3   3   5\n",
       "4  0   5   4   3   3   3   5"
      ]
     },
     "execution_count": 4,
     "metadata": {},
     "output_type": "execute_result"
    }
   ],
   "source": [
    "# load the dataset\n",
    "customer_data = pd.read_csv('ACME-HappinessSurvey2020.csv')\n",
    "customer_data.head()"
   ]
  },
  {
   "cell_type": "code",
   "execution_count": 5,
   "metadata": {},
   "outputs": [
    {
     "name": "stdout",
     "output_type": "stream",
     "text": [
      "<class 'pandas.core.frame.DataFrame'>\n",
      "RangeIndex: 126 entries, 0 to 125\n",
      "Data columns (total 7 columns):\n",
      " #   Column  Non-Null Count  Dtype\n",
      "---  ------  --------------  -----\n",
      " 0   Y       126 non-null    int64\n",
      " 1   X1      126 non-null    int64\n",
      " 2   X2      126 non-null    int64\n",
      " 3   X3      126 non-null    int64\n",
      " 4   X4      126 non-null    int64\n",
      " 5   X5      126 non-null    int64\n",
      " 6   X6      126 non-null    int64\n",
      "dtypes: int64(7)\n",
      "memory usage: 7.0 KB\n"
     ]
    }
   ],
   "source": [
    "customer_data.info()"
   ]
  },
  {
   "cell_type": "markdown",
   "metadata": {},
   "source": [
    "## SHIFT the scale from 1-5 such that 3 becomes 0 at the center"
   ]
  },
  {
   "cell_type": "code",
   "execution_count": 6,
   "metadata": {},
   "outputs": [],
   "source": [
    "customer_data['X1'] = customer_data['X1'] - 3\n",
    "customer_data['X2'] = customer_data['X2'] - 3\n",
    "customer_data['X3'] = customer_data['X3'] - 3\n",
    "customer_data['X4'] = customer_data['X4'] - 3\n",
    "customer_data['X5'] = customer_data['X5'] - 3\n",
    "customer_data['X6'] = customer_data['X6'] - 3"
   ]
  },
  {
   "cell_type": "code",
   "execution_count": 7,
   "metadata": {},
   "outputs": [
    {
     "data": {
      "text/html": [
       "<div>\n",
       "<style scoped>\n",
       "    .dataframe tbody tr th:only-of-type {\n",
       "        vertical-align: middle;\n",
       "    }\n",
       "\n",
       "    .dataframe tbody tr th {\n",
       "        vertical-align: top;\n",
       "    }\n",
       "\n",
       "    .dataframe thead th {\n",
       "        text-align: right;\n",
       "    }\n",
       "</style>\n",
       "<table border=\"1\" class=\"dataframe\">\n",
       "  <thead>\n",
       "    <tr style=\"text-align: right;\">\n",
       "      <th></th>\n",
       "      <th>Happy</th>\n",
       "      <th>DeliveredOnTime</th>\n",
       "      <th>ContentsCorrect</th>\n",
       "      <th>I ordered everything</th>\n",
       "      <th>GoodPrice</th>\n",
       "      <th>CourierSatisfaction</th>\n",
       "      <th>AppEasyOrdering</th>\n",
       "      <th>AvgSurvey</th>\n",
       "    </tr>\n",
       "  </thead>\n",
       "  <tbody>\n",
       "    <tr>\n",
       "      <th>0</th>\n",
       "      <td>0</td>\n",
       "      <td>0</td>\n",
       "      <td>0</td>\n",
       "      <td>0</td>\n",
       "      <td>1</td>\n",
       "      <td>-1</td>\n",
       "      <td>1</td>\n",
       "      <td>0.17</td>\n",
       "    </tr>\n",
       "    <tr>\n",
       "      <th>1</th>\n",
       "      <td>0</td>\n",
       "      <td>0</td>\n",
       "      <td>-1</td>\n",
       "      <td>0</td>\n",
       "      <td>2</td>\n",
       "      <td>1</td>\n",
       "      <td>0</td>\n",
       "      <td>0.33</td>\n",
       "    </tr>\n",
       "    <tr>\n",
       "      <th>2</th>\n",
       "      <td>1</td>\n",
       "      <td>2</td>\n",
       "      <td>0</td>\n",
       "      <td>0</td>\n",
       "      <td>0</td>\n",
       "      <td>0</td>\n",
       "      <td>2</td>\n",
       "      <td>0.67</td>\n",
       "    </tr>\n",
       "    <tr>\n",
       "      <th>3</th>\n",
       "      <td>0</td>\n",
       "      <td>2</td>\n",
       "      <td>1</td>\n",
       "      <td>0</td>\n",
       "      <td>0</td>\n",
       "      <td>0</td>\n",
       "      <td>2</td>\n",
       "      <td>0.83</td>\n",
       "    </tr>\n",
       "    <tr>\n",
       "      <th>4</th>\n",
       "      <td>0</td>\n",
       "      <td>2</td>\n",
       "      <td>1</td>\n",
       "      <td>0</td>\n",
       "      <td>0</td>\n",
       "      <td>0</td>\n",
       "      <td>2</td>\n",
       "      <td>0.83</td>\n",
       "    </tr>\n",
       "  </tbody>\n",
       "</table>\n",
       "</div>"
      ],
      "text/plain": [
       "   Happy  DeliveredOnTime  ContentsCorrect  I ordered everything  GoodPrice  \\\n",
       "0      0                0                0                     0          1   \n",
       "1      0                0               -1                     0          2   \n",
       "2      1                2                0                     0          0   \n",
       "3      0                2                1                     0          0   \n",
       "4      0                2                1                     0          0   \n",
       "\n",
       "   CourierSatisfaction  AppEasyOrdering  AvgSurvey  \n",
       "0                   -1                1       0.17  \n",
       "1                    1                0       0.33  \n",
       "2                    0                2       0.67  \n",
       "3                    0                2       0.83  \n",
       "4                    0                2       0.83  "
      ]
     },
     "execution_count": 7,
     "metadata": {},
     "output_type": "execute_result"
    }
   ],
   "source": [
    "# rename the columns\n",
    "customer_data = customer_data.rename(columns = {'Y': 'Happy', 'X1':'DeliveredOnTime', 'X2':'ContentsCorrect', 'X3':'I ordered everything', 'X4': 'GoodPrice', 'X5':'CourierSatisfaction', 'X6': 'AppEasyOrdering'})\n",
    "#ADDING A NEW FEATURE 'AVG' below\n",
    "column_list = ['DeliveredOnTime', 'ContentsCorrect', 'I ordered everything', 'GoodPrice', 'CourierSatisfaction', 'AppEasyOrdering']\n",
    "customer_data['AvgSurvey'] = customer_data[column_list].mean(axis=1)\n",
    "##ADDING A NEW FEATURE 'AVG' above\n",
    "customer_data.head()"
   ]
  },
  {
   "cell_type": "code",
   "execution_count": 8,
   "metadata": {},
   "outputs": [
    {
     "data": {
      "text/html": [
       "<div>\n",
       "<style scoped>\n",
       "    .dataframe tbody tr th:only-of-type {\n",
       "        vertical-align: middle;\n",
       "    }\n",
       "\n",
       "    .dataframe tbody tr th {\n",
       "        vertical-align: top;\n",
       "    }\n",
       "\n",
       "    .dataframe thead th {\n",
       "        text-align: right;\n",
       "    }\n",
       "</style>\n",
       "<table border=\"1\" class=\"dataframe\">\n",
       "  <thead>\n",
       "    <tr style=\"text-align: right;\">\n",
       "      <th></th>\n",
       "      <th>Happy</th>\n",
       "      <th>DeliveredOnTime</th>\n",
       "      <th>ContentsCorrect</th>\n",
       "      <th>I ordered everything</th>\n",
       "      <th>GoodPrice</th>\n",
       "      <th>CourierSatisfaction</th>\n",
       "      <th>AppEasyOrdering</th>\n",
       "      <th>AvgSurvey</th>\n",
       "    </tr>\n",
       "  </thead>\n",
       "  <tbody>\n",
       "    <tr>\n",
       "      <th>count</th>\n",
       "      <td>126.00</td>\n",
       "      <td>126.00</td>\n",
       "      <td>126.00</td>\n",
       "      <td>126.00</td>\n",
       "      <td>126.00</td>\n",
       "      <td>126.00</td>\n",
       "      <td>126.00</td>\n",
       "      <td>126.00</td>\n",
       "    </tr>\n",
       "    <tr>\n",
       "      <th>mean</th>\n",
       "      <td>0.55</td>\n",
       "      <td>1.33</td>\n",
       "      <td>-0.47</td>\n",
       "      <td>0.31</td>\n",
       "      <td>0.75</td>\n",
       "      <td>0.65</td>\n",
       "      <td>1.25</td>\n",
       "      <td>0.64</td>\n",
       "    </tr>\n",
       "    <tr>\n",
       "      <th>std</th>\n",
       "      <td>0.50</td>\n",
       "      <td>0.80</td>\n",
       "      <td>1.11</td>\n",
       "      <td>1.02</td>\n",
       "      <td>0.88</td>\n",
       "      <td>1.15</td>\n",
       "      <td>0.81</td>\n",
       "      <td>0.57</td>\n",
       "    </tr>\n",
       "    <tr>\n",
       "      <th>min</th>\n",
       "      <td>0.00</td>\n",
       "      <td>-2.00</td>\n",
       "      <td>-2.00</td>\n",
       "      <td>-2.00</td>\n",
       "      <td>-2.00</td>\n",
       "      <td>-2.00</td>\n",
       "      <td>-2.00</td>\n",
       "      <td>-1.17</td>\n",
       "    </tr>\n",
       "    <tr>\n",
       "      <th>25%</th>\n",
       "      <td>0.00</td>\n",
       "      <td>1.00</td>\n",
       "      <td>-1.00</td>\n",
       "      <td>0.00</td>\n",
       "      <td>0.00</td>\n",
       "      <td>0.00</td>\n",
       "      <td>1.00</td>\n",
       "      <td>0.33</td>\n",
       "    </tr>\n",
       "    <tr>\n",
       "      <th>50%</th>\n",
       "      <td>1.00</td>\n",
       "      <td>2.00</td>\n",
       "      <td>0.00</td>\n",
       "      <td>0.00</td>\n",
       "      <td>1.00</td>\n",
       "      <td>1.00</td>\n",
       "      <td>1.00</td>\n",
       "      <td>0.67</td>\n",
       "    </tr>\n",
       "    <tr>\n",
       "      <th>75%</th>\n",
       "      <td>1.00</td>\n",
       "      <td>2.00</td>\n",
       "      <td>0.00</td>\n",
       "      <td>1.00</td>\n",
       "      <td>1.00</td>\n",
       "      <td>1.00</td>\n",
       "      <td>2.00</td>\n",
       "      <td>1.00</td>\n",
       "    </tr>\n",
       "    <tr>\n",
       "      <th>max</th>\n",
       "      <td>1.00</td>\n",
       "      <td>2.00</td>\n",
       "      <td>2.00</td>\n",
       "      <td>2.00</td>\n",
       "      <td>2.00</td>\n",
       "      <td>2.00</td>\n",
       "      <td>2.00</td>\n",
       "      <td>2.00</td>\n",
       "    </tr>\n",
       "  </tbody>\n",
       "</table>\n",
       "</div>"
      ],
      "text/plain": [
       "       Happy  DeliveredOnTime  ContentsCorrect  I ordered everything  \\\n",
       "count 126.00           126.00           126.00                126.00   \n",
       "mean    0.55             1.33            -0.47                  0.31   \n",
       "std     0.50             0.80             1.11                  1.02   \n",
       "min     0.00            -2.00            -2.00                 -2.00   \n",
       "25%     0.00             1.00            -1.00                  0.00   \n",
       "50%     1.00             2.00             0.00                  0.00   \n",
       "75%     1.00             2.00             0.00                  1.00   \n",
       "max     1.00             2.00             2.00                  2.00   \n",
       "\n",
       "       GoodPrice  CourierSatisfaction  AppEasyOrdering  AvgSurvey  \n",
       "count     126.00               126.00           126.00     126.00  \n",
       "mean        0.75                 0.65             1.25       0.64  \n",
       "std         0.88                 1.15             0.81       0.57  \n",
       "min        -2.00                -2.00            -2.00      -1.17  \n",
       "25%         0.00                 0.00             1.00       0.33  \n",
       "50%         1.00                 1.00             1.00       0.67  \n",
       "75%         1.00                 1.00             2.00       1.00  \n",
       "max         2.00                 2.00             2.00       2.00  "
      ]
     },
     "execution_count": 8,
     "metadata": {},
     "output_type": "execute_result"
    }
   ],
   "source": [
    "customer_data.describe()"
   ]
  },
  {
   "cell_type": "code",
   "execution_count": 9,
   "metadata": {},
   "outputs": [
    {
     "data": {
      "text/plain": [
       "16"
      ]
     },
     "execution_count": 9,
     "metadata": {},
     "output_type": "execute_result"
    }
   ],
   "source": [
    "# checking for duplicate data\n",
    "customer_data.duplicated().sum()"
   ]
  },
  {
   "cell_type": "code",
   "execution_count": 10,
   "metadata": {},
   "outputs": [
    {
     "data": {
      "image/png": "[encoded data removed]",
      "text/plain": [
       "<Figure size 864x720 with 2 Axes>"
      ]
     },
     "metadata": {
      "needs_background": "light"
     },
     "output_type": "display_data"
    }
   ],
   "source": [
    "# Using Pearson Correlation\n",
    "plt.figure(figsize=(12,10))\n",
    "cor = customer_data.corr()\n",
    "sns.heatmap(cor, annot=True, cmap=\"coolwarm\")\n",
    "plt.show()"
   ]
  },
  {
   "cell_type": "code",
   "execution_count": 11,
   "metadata": {},
   "outputs": [
    {
     "data": {
      "text/plain": [
       "Happy                   1.00\n",
       "DeliveredOnTime         0.28\n",
       "ContentsCorrect        -0.02\n",
       "I ordered everything    0.15\n",
       "GoodPrice               0.06\n",
       "CourierSatisfaction     0.22\n",
       "AppEasyOrdering         0.17\n",
       "AvgSurvey               0.24\n",
       "Name: Happy, dtype: float64"
      ]
     },
     "execution_count": 11,
     "metadata": {},
     "output_type": "execute_result"
    }
   ],
   "source": [
    "# Correlation with output variable\n",
    "cor_target = cor[\"Happy\"]\n",
    "# Selecting highly positively correlated features\n",
    "cor_target"
   ]
  },
  {
   "cell_type": "code",
   "execution_count": 12,
   "metadata": {},
   "outputs": [
    {
     "data": {
      "text/plain": [
       "Happy                  0.22\n",
       "DeliveredOnTime        0.43\n",
       "ContentsCorrect        0.04\n",
       "I ordered everything   0.36\n",
       "GoodPrice              0.29\n",
       "CourierSatisfaction    1.00\n",
       "AppEasyOrdering        0.32\n",
       "AvgSurvey              0.71\n",
       "Name: CourierSatisfaction, dtype: float64"
      ]
     },
     "execution_count": 12,
     "metadata": {},
     "output_type": "execute_result"
    }
   ],
   "source": [
    "# Correlation with output variable\n",
    "cor_Courier = cor[\"CourierSatisfaction\"]\n",
    "# Selecting highly positively correlated features\n",
    "cor_Courier"
   ]
  },
  {
   "cell_type": "markdown",
   "metadata": {},
   "source": [
    "## Exploratory Data Analysis led to shifting the data to be centered around 0 instead of 3. In additon to plotting the feature response frequencies, the SUM of all features seems to reveal an inflection point. In order to include it as an additonal feature, we can scale it by using the Average instead of the Sum."
   ]
  },
  {
   "cell_type": "code",
   "execution_count": 13,
   "metadata": {},
   "outputs": [
    {
     "data": {
      "image/png": "[encoded data removed]",
      "text/plain": [
       "<Figure size 1152x864 with 6 Axes>"
      ]
     },
     "metadata": {
      "needs_background": "light"
     },
     "output_type": "display_data"
    }
   ],
   "source": [
    "# Create a function for distribution plot\n",
    "def count_plot(column_name, dataset, x=0, y=0):\n",
    "    ax = sns.countplot(x=column_name, data= dataset, ax = axes[x, y])\n",
    "    for p in ax.patches:\n",
    "        height = p.get_height()\n",
    "        ax.text(p.get_x()+p.get_width()/2.,\n",
    "            height + 3,\n",
    "            '{:1.2f}'.format(height/float(len(dataset))),\n",
    "            ha=\"center\")\n",
    "        ax.set_box_aspect(3/len(ax.patches))\n",
    "        \n",
    "# Distribution of other variables\n",
    "fig, axes =plt.subplots(2,3, figsize=(16, 12))\n",
    "count_plot('DeliveredOnTime', customer_data, x = 0, y= 0)\n",
    "count_plot('ContentsCorrect', customer_data, x = 0, y= 1)\n",
    "count_plot('I ordered everything', customer_data, x = 0, y= 2)\n",
    "count_plot('GoodPrice', customer_data, x = 1, y= 0)\n",
    "count_plot('CourierSatisfaction', customer_data, x = 1, y= 1)\n",
    "count_plot('AppEasyOrdering', customer_data, x = 1, y= 2)"
   ]
  },
  {
   "cell_type": "code",
   "execution_count": 14,
   "metadata": {},
   "outputs": [
    {
     "data": {
      "image/png": "[encoded data removed]",
      "text/plain": [
       "<Figure size 432x288 with 1 Axes>"
      ]
     },
     "metadata": {
      "needs_background": "light"
     },
     "output_type": "display_data"
    }
   ],
   "source": [
    "ax = sns.countplot(x=\"AvgSurvey\", data=customer_data)"
   ]
  },
  {
   "cell_type": "markdown",
   "metadata": {},
   "source": [
    "## Set the train, test, split test size (after experimenting with different test size values). Also use the seed value as defined in order to set it globally. "
   ]
  },
  {
   "cell_type": "code",
   "execution_count": 15,
   "metadata": {},
   "outputs": [],
   "source": [
    "#set predictor variables and target variables\n",
    "X = customer_data.drop(columns= ['Happy'])\n",
    "y = customer_data.Happy"
   ]
  },
  {
   "cell_type": "code",
   "execution_count": 16,
   "metadata": {},
   "outputs": [
    {
     "name": "stdout",
     "output_type": "stream",
     "text": [
      "X Training set sample size: 100\n",
      "X Testing set sample size: 26\n",
      "y Training set sample size: 100\n",
      "y Testing set sample size: 26\n"
     ]
    }
   ],
   "source": [
    "# split the data into training and test sets\n",
    "X_train, X_test, y_train, y_test = train_test_split(X, y, random_state=seed, test_size=0.2)\n",
    "\n",
    "# Show the results of the split\n",
    "print(\"X Training set sample size:\", (X_train.shape[0]))\n",
    "print(\"X Testing set sample size:\", (X_test.shape[0]))\n",
    "print(\"y Training set sample size:\", (y_train.shape[0]))\n",
    "print(\"y Testing set sample size:\", (y_test.shape[0]))"
   ]
  },
  {
   "cell_type": "code",
   "execution_count": 17,
   "metadata": {},
   "outputs": [],
   "source": [
    "def evaluate(model, X_train, X_test, y_train, y_test):\n",
    "    y_test_pred = model.predict(X_test)\n",
    "    y_train_pred = model.predict(X_train)\n",
    "    y_test_pred_proba = model.predict_proba(X_test)[:,1]\n",
    "    \n",
    "    f1 = f1_score(y_test, y_test_pred)\n",
    "    cm = confusion_matrix(y_test, y_test_pred)\n",
    "    roc= roc_auc_score(y_test, y_test_pred_proba)\n",
    "\n",
    "    print(\"TRAINIG RESULTS: \\n===============================\")\n",
    "    print(f\"RECALL SCORE:{recall_score(y_train, y_train_pred):.4f}\")\n",
    "    print(f\"ACCURACY SCORE:{accuracy_score(y_train, y_train_pred):.4f}\")\n",
    "    print(f\"CONFUSION MATRIX:\\n{confusion_matrix(y_train, y_train_pred)}\")\n",
    "    clf_report = pd.DataFrame(classification_report(y_train, y_train_pred, output_dict=True))\n",
    "    print(f\"CLASSIFICATION REPORT:\\n{clf_report}\")\n",
    "    print()\n",
    "    print()\n",
    "\n",
    "    print(\"TESTING RESULTS: \\n===============================\")\n",
    "    print(f\"RECALL SCORE:{recall_score(y_test, y_test_pred):.4f}\")\n",
    "    print(f\"ACCURACY SCORE:{accuracy_score(y_test, y_test_pred):.4f}\")\n",
    "    print(f\"CONFUSION MATRIX:\\n{confusion_matrix(y_test, y_test_pred)}\")\n",
    "    \n",
    "    print('F1-score: ' , round(f1,4))\n",
    "#    print(\"Best Score: \" , round(model.best_score_,4))\n",
    "    print(\"Test ROC AUC:\", round(roc,4), '\\n')\n",
    "#    print(\"Best Parameters: \" , model.best_params_)\n",
    "    clf_report = pd.DataFrame(classification_report(y_test, y_test_pred, output_dict=True))\n",
    "    print(f\"CLASSIFICATION REPORT:\\n{clf_report}\")\n",
    "    \n",
    "    \n",
    "    fpr, tpr, thresholds = roc_curve(y_test, y_test_pred_proba)\n",
    "    plt.plot([0, 1], [0, 1], 'k--')\n",
    "    plt.plot(fpr,tpr,label= 'f\"{model}\" ')\n",
    "    plt.xlabel('False Positive Rate')\n",
    "    plt.ylabel('True Positive Rate')\n",
    "    plt.title('ROC Curve')\n",
    "    plt.show()"
   ]
  },
  {
   "cell_type": "markdown",
   "metadata": {},
   "source": [
    "## Model selection tool LazyPredict will help identify candidates for the most appropriate model"
   ]
  },
  {
   "cell_type": "code",
   "execution_count": 18,
   "metadata": {},
   "outputs": [
    {
     "name": "stderr",
     "output_type": "stream",
     "text": [
      "100%|███████████████████████████████████████████| 29/29 [00:00<00:00, 34.12it/s]"
     ]
    },
    {
     "name": "stdout",
     "output_type": "stream",
     "text": [
      "                               Accuracy  Balanced Accuracy  ROC AUC  F1 Score  \\\n",
      "Model                                                                           \n",
      "SGDClassifier                      0.81               0.80     0.80      0.81   \n",
      "DecisionTreeClassifier             0.77               0.77     0.77      0.77   \n",
      "ExtraTreesClassifier               0.73               0.73     0.73      0.73   \n",
      "PassiveAggressiveClassifier        0.73               0.73     0.73      0.73   \n",
      "QuadraticDiscriminantAnalysis      0.73               0.71     0.71      0.72   \n",
      "Perceptron                         0.69               0.70     0.70      0.69   \n",
      "RandomForestClassifier             0.69               0.70     0.70      0.69   \n",
      "BaggingClassifier                  0.69               0.70     0.70      0.69   \n",
      "LGBMClassifier                     0.69               0.68     0.68      0.69   \n",
      "BernoulliNB                        0.65               0.67     0.67      0.65   \n",
      "XGBClassifier                      0.65               0.67     0.67      0.65   \n",
      "GaussianNB                         0.65               0.66     0.66      0.65   \n",
      "LabelPropagation                   0.65               0.66     0.66      0.65   \n",
      "LabelSpreading                     0.65               0.66     0.66      0.65   \n",
      "RidgeClassifierCV                  0.62               0.63     0.63      0.60   \n",
      "RidgeClassifier                    0.62               0.63     0.63      0.60   \n",
      "LinearSVC                          0.62               0.63     0.63      0.60   \n",
      "LogisticRegression                 0.62               0.63     0.63      0.60   \n",
      "LinearDiscriminantAnalysis         0.62               0.63     0.63      0.60   \n",
      "NearestCentroid                    0.62               0.62     0.62      0.62   \n",
      "KNeighborsClassifier               0.62               0.62     0.62      0.62   \n",
      "SVC                                0.58               0.60     0.60      0.53   \n",
      "NuSVC                              0.58               0.58     0.58      0.58   \n",
      "AdaBoostClassifier                 0.58               0.58     0.58      0.58   \n",
      "ExtraTreeClassifier                0.50               0.51     0.51      0.49   \n",
      "CalibratedClassifierCV             0.46               0.50     0.50      0.29   \n",
      "DummyClassifier                    0.31               0.32     0.32      0.30   \n",
      "\n",
      "                               Time Taken  \n",
      "Model                                      \n",
      "SGDClassifier                        0.01  \n",
      "DecisionTreeClassifier               0.01  \n",
      "ExtraTreesClassifier                 0.13  \n",
      "PassiveAggressiveClassifier          0.02  \n",
      "QuadraticDiscriminantAnalysis        0.01  \n",
      "Perceptron                           0.01  \n",
      "RandomForestClassifier               0.17  \n",
      "BaggingClassifier                    0.03  \n",
      "LGBMClassifier                       0.03  \n",
      "BernoulliNB                          0.01  \n",
      "XGBClassifier                        0.04  \n",
      "GaussianNB                           0.01  \n",
      "LabelPropagation                     0.01  \n",
      "LabelSpreading                       0.01  \n",
      "RidgeClassifierCV                    0.02  \n",
      "RidgeClassifier                      0.01  \n",
      "LinearSVC                            0.01  \n",
      "LogisticRegression                   0.01  \n",
      "LinearDiscriminantAnalysis           0.01  \n",
      "NearestCentroid                      0.01  \n",
      "KNeighborsClassifier                 0.02  \n",
      "SVC                                  0.01  \n",
      "NuSVC                                0.01  \n",
      "AdaBoostClassifier                   0.12  \n",
      "ExtraTreeClassifier                  0.01  \n",
      "CalibratedClassifierCV               0.04  \n",
      "DummyClassifier                      0.02  \n",
      "CPU times: user 1.16 s, sys: 59.6 ms, total: 1.22 s\n",
      "Wall time: 881 ms\n"
     ]
    },
    {
     "name": "stderr",
     "output_type": "stream",
     "text": [
      "\n"
     ]
    }
   ],
   "source": [
    "%%time\n",
    "clf = LazyClassifier(verbose=0,ignore_warnings=True, custom_metric=None)\n",
    "models,predictions = clf.fit(X_train, X_test, y_train, y_test)\n",
    "print(models)"
   ]
  },
  {
   "cell_type": "code",
   "execution_count": 19,
   "metadata": {},
   "outputs": [
    {
     "name": "stdout",
     "output_type": "stream",
     "text": [
      "CPU times: user 594 ms, sys: 22.6 ms, total: 617 ms\n",
      "Wall time: 254 ms\n"
     ]
    },
    {
     "data": {
      "text/plain": [
       "RandomForestClassifier(bootstrap=True, ccp_alpha=0.0, class_weight=None,\n",
       "                       criterion='gini', max_depth=None, max_features='auto',\n",
       "                       max_leaf_nodes=None, max_samples=None,\n",
       "                       min_impurity_decrease=0.0, min_impurity_split=None,\n",
       "                       min_samples_leaf=1, min_samples_split=2,\n",
       "                       min_weight_fraction_leaf=0.0, n_estimators=100,\n",
       "                       n_jobs=None, oob_score=False, random_state=None,\n",
       "                       verbose=0, warm_start=False)"
      ]
     },
     "execution_count": 19,
     "metadata": {},
     "output_type": "execute_result"
    }
   ],
   "source": [
    "%%time\n",
    "#Run Random Forest Classifier with default settings, before scaling and tuning \n",
    "rc = RandomForestClassifier()\n",
    "\n",
    "rc.fit(X_train, y_train)\n",
    "\n",
    "rc_predict = rc.predict(X_test)\n",
    "\n",
    "#print (confusion_matrix(y_test , rc_predict))\n",
    "#print (\"Accuracy score: \", accuracy_score(y_test , rc_predict))\n",
    "#print(\"F1 score: \", f1_score(y_test , rc_predict))\n",
    "#print(\"Precision score: \" , precision_score(y_test , rc_predict))\n",
    "#print(\"Recall score: \" , recall_score(y_test , rc_predict))\n",
    "#print (classification_report(y_test , rc_predict))\n",
    "rc"
   ]
  },
  {
   "cell_type": "markdown",
   "metadata": {},
   "source": [
    "### This is the default RandomForest model with no standard scaling, but manually shifted to be centered around zero. Not only does it makes sense, but it improves both test and train scores.\n",
    "\n",
    "#### Also no feature selection yet, but includes new feature \"Average\". This is a high scoring result, even better than some initial tweaking. \n"
   ]
  },
  {
   "cell_type": "code",
   "execution_count": 20,
   "metadata": {},
   "outputs": [
    {
     "name": "stdout",
     "output_type": "stream",
     "text": [
      "TRAINIG RESULTS: \n",
      "===============================\n",
      "RECALL SCORE:0.9825\n",
      "ACCURACY SCORE:0.9400\n",
      "CONFUSION MATRIX:\n",
      "[[38  5]\n",
      " [ 1 56]]\n",
      "CLASSIFICATION REPORT:\n",
      "              0     1  accuracy  macro avg  weighted avg\n",
      "precision  0.97  0.92      0.94       0.95          0.94\n",
      "recall     0.88  0.98      0.94       0.93          0.94\n",
      "f1-score   0.93  0.95      0.94       0.94          0.94\n",
      "support   43.00 57.00      0.94     100.00        100.00\n",
      "\n",
      "\n",
      "TESTING RESULTS: \n",
      "===============================\n",
      "RECALL SCORE:0.7500\n",
      "ACCURACY SCORE:0.6923\n",
      "CONFUSION MATRIX:\n",
      "[[9 5]\n",
      " [3 9]]\n",
      "F1-score:  0.6923\n",
      "Test ROC AUC: 0.8393 \n",
      "\n",
      "CLASSIFICATION REPORT:\n",
      "              0     1  accuracy  macro avg  weighted avg\n",
      "precision  0.75  0.64      0.69       0.70          0.70\n",
      "recall     0.64  0.75      0.69       0.70          0.69\n",
      "f1-score   0.69  0.69      0.69       0.69          0.69\n",
      "support   14.00 12.00      0.69      26.00         26.00\n"
     ]
    },
    {
     "data": {
      "image/png": "[encoded data removed]",
      "text/plain": [
       "<Figure size 432x288 with 1 Axes>"
      ]
     },
     "metadata": {
      "needs_background": "light"
     },
     "output_type": "display_data"
    }
   ],
   "source": [
    "evaluate(rc, X_train, X_test, y_train, y_test)"
   ]
  },
  {
   "cell_type": "code",
   "execution_count": 21,
   "metadata": {},
   "outputs": [
    {
     "name": "stdout",
     "output_type": "stream",
     "text": [
      "CPU times: user 9.85 ms, sys: 2.59 ms, total: 12.4 ms\n",
      "Wall time: 11.1 ms\n"
     ]
    },
    {
     "data": {
      "text/plain": [
       "LogisticRegression(C=1.0, class_weight=None, dual=False, fit_intercept=True,\n",
       "                   intercept_scaling=1, l1_ratio=None, max_iter=100,\n",
       "                   multi_class='auto', n_jobs=None, penalty='l2',\n",
       "                   random_state=None, solver='lbfgs', tol=0.0001, verbose=0,\n",
       "                   warm_start=False)"
      ]
     },
     "execution_count": 21,
     "metadata": {},
     "output_type": "execute_result"
    }
   ],
   "source": [
    "%%time\n",
    "#lr = LogisticRegression(solver='lbfgs', max_iter=1000)\n",
    "lr = LogisticRegression()\n",
    "\n",
    "lr.fit(X_train, y_train)\n",
    "\n",
    "lr_predict = lr.predict(X_test)\n",
    "\n",
    "#print (confusion_matrix(y_test , lr_predict))\n",
    "#print (\"Accuracy score: \", accuracy_score(y_test , lr_predict))\n",
    "#print(\"F1 score: \", f1_score(y_test , lr_predict))\n",
    "#print(\"Precision score: \" , precision_score(y_test , lr_predict))\n",
    "#print(\"Recall score: \" , recall_score(y_test , lr_predict))\n",
    "#print (classification_report(y_test , lr_predict))\n",
    "lr"
   ]
  },
  {
   "cell_type": "code",
   "execution_count": 22,
   "metadata": {},
   "outputs": [
    {
     "name": "stdout",
     "output_type": "stream",
     "text": [
      "TRAINIG RESULTS: \n",
      "===============================\n",
      "RECALL SCORE:0.7895\n",
      "ACCURACY SCORE:0.5900\n",
      "CONFUSION MATRIX:\n",
      "[[14 29]\n",
      " [12 45]]\n",
      "CLASSIFICATION REPORT:\n",
      "              0     1  accuracy  macro avg  weighted avg\n",
      "precision  0.54  0.61      0.59       0.57          0.58\n",
      "recall     0.33  0.79      0.59       0.56          0.59\n",
      "f1-score   0.41  0.69      0.59       0.55          0.57\n",
      "support   43.00 57.00      0.59     100.00        100.00\n",
      "\n",
      "\n",
      "TESTING RESULTS: \n",
      "===============================\n",
      "RECALL SCORE:0.8333\n",
      "ACCURACY SCORE:0.6154\n",
      "CONFUSION MATRIX:\n",
      "[[ 6  8]\n",
      " [ 2 10]]\n",
      "F1-score:  0.6667\n",
      "Test ROC AUC: 0.7857 \n",
      "\n",
      "CLASSIFICATION REPORT:\n",
      "              0     1  accuracy  macro avg  weighted avg\n",
      "precision  0.75  0.56      0.62       0.65          0.66\n",
      "recall     0.43  0.83      0.62       0.63          0.62\n",
      "f1-score   0.55  0.67      0.62       0.61          0.60\n",
      "support   14.00 12.00      0.62      26.00         26.00\n"
     ]
    },
    {
     "data": {
      "image/png": "[encoded data removed]",
      "text/plain": [
       "<Figure size 432x288 with 1 Axes>"
      ]
     },
     "metadata": {
      "needs_background": "light"
     },
     "output_type": "display_data"
    }
   ],
   "source": [
    "evaluate(lr, X_train, X_test, y_train, y_test)"
   ]
  },
  {
   "cell_type": "markdown",
   "metadata": {},
   "source": [
    "## Note the 'rfc__random_state' parameter is supposed to used the seed, but it displays 'None' in the Gridsearch paramter listing, even though the tuned regression random_state parameter uses the global seed value we defined. Regardless, testing showed that the seed is enabling the ability to reproduce these results."
   ]
  },
  {
   "cell_type": "code",
   "execution_count": 23,
   "metadata": {},
   "outputs": [
    {
     "name": "stdout",
     "output_type": "stream",
     "text": [
      "477\n"
     ]
    }
   ],
   "source": [
    "print(seed)"
   ]
  },
  {
   "cell_type": "code",
   "execution_count": 24,
   "metadata": {},
   "outputs": [
    {
     "name": "stdout",
     "output_type": "stream",
     "text": [
      "Fitting 5 folds for each of 1 candidates, totalling 5 fits\n"
     ]
    },
    {
     "name": "stderr",
     "output_type": "stream",
     "text": [
      "[Parallel(n_jobs=-1)]: Using backend LokyBackend with 4 concurrent workers.\n"
     ]
    },
    {
     "name": "stdout",
     "output_type": "stream",
     "text": [
      "Tuned GridsearchCV Parameter: {'rfc__class_weight': None, 'rfc__criterion': 'gini', 'rfc__max_depth': None, 'rfc__random_state': 477}\n",
      "Tuned GridsearchCV Accuracy: 0.45\n",
      "CPU times: user 260 ms, sys: 90.1 ms, total: 350 ms\n",
      "Wall time: 2.89 s\n"
     ]
    },
    {
     "name": "stderr",
     "output_type": "stream",
     "text": [
      "[Parallel(n_jobs=-1)]: Done   5 out of   5 | elapsed:    2.7s finished\n"
     ]
    },
    {
     "data": {
      "text/plain": [
       "GridSearchCV(cv=5, error_score=nan,\n",
       "             estimator=Pipeline(memory=None,\n",
       "                                steps=[('rfc',\n",
       "                                        RandomForestClassifier(bootstrap=True,\n",
       "                                                               ccp_alpha=0.0,\n",
       "                                                               class_weight=None,\n",
       "                                                               criterion='gini',\n",
       "                                                               max_depth=None,\n",
       "                                                               max_features='auto',\n",
       "                                                               max_leaf_nodes=None,\n",
       "                                                               max_samples=None,\n",
       "                                                               min_impurity_decrease=0.0,\n",
       "                                                               min_impurity_split=None,\n",
       "                                                               min_samples_leaf=1,\n",
       "                                                               min_samples_split=2,\n",
       "                                                               min_weight_fraction_leaf=0.0,\n",
       "                                                               n_estimators=100,\n",
       "                                                               n_jobs=None,\n",
       "                                                               oob_score=False,\n",
       "                                                               random_state=None,\n",
       "                                                               verbose=0,\n",
       "                                                               warm_start=False))],\n",
       "                                verbose=False),\n",
       "             iid='deprecated', n_jobs=-1,\n",
       "             param_grid={'rfc__class_weight': [None],\n",
       "                         'rfc__criterion': ['gini'], 'rfc__max_depth': [None],\n",
       "                         'rfc__random_state': [477]},\n",
       "             pre_dispatch='2*n_jobs', refit=True, return_train_score=False,\n",
       "             scoring=None, verbose=True)"
      ]
     },
     "execution_count": 24,
     "metadata": {},
     "output_type": "execute_result"
    }
   ],
   "source": [
    "%%time\n",
    "# RUN THE PIPELINE WITH DEFAULT PARAMETERS BEFORE USING STANDARD SCALER\n",
    "# Setup the pipeline\n",
    "steps = [\n",
    "         ('rfc', RandomForestClassifier(n_estimators=100))\n",
    "         ]\n",
    "\n",
    "#steps = [('scaler', StandardScaler()),\n",
    "#         ('rfc', RandomForestClassifier(n_estimators=10))\n",
    "#         ]\n",
    "\n",
    "pipeline = Pipeline(steps)\n",
    "\n",
    "# Create the hyperparameter grid\n",
    "#c_space = np.logspace(-5, 8, 15)\n",
    "param_grid = {'rfc__max_depth': [None],\n",
    "                'rfc__class_weight': [None],\n",
    "                'rfc__criterion' : ['gini'],\n",
    "                'rfc__random_state' : [seed]}\n",
    "\n",
    "\n",
    "# Instantiate the GridSearchCV object: logreg_cv\n",
    "rfc = GridSearchCV(pipeline, param_grid, cv=5, verbose=True, n_jobs=-1)\n",
    "\n",
    "# Fit it to the training data\n",
    "rfc.fit(X_train, y_train)\n",
    "\n",
    "rfc_predict = rfc.predict(X_test)\n",
    "\n",
    "# Print the optimal parameters and best score\n",
    "print(\"Tuned GridsearchCV Parameter: {}\".format(rfc.best_params_))\n",
    "print(\"Tuned GridsearchCV Accuracy: {}\".format(rfc.best_score_))\n",
    "\n",
    "rfc"
   ]
  },
  {
   "cell_type": "markdown",
   "metadata": {},
   "source": [
    "### Check the pipleline results using default parameters to baseline. Check this more carefully later for an explanation. A difference was observed for using the pipleline with same parameters in scenarios, with and with Avg and shifting."
   ]
  },
  {
   "cell_type": "code",
   "execution_count": 25,
   "metadata": {},
   "outputs": [
    {
     "name": "stdout",
     "output_type": "stream",
     "text": [
      "TRAINIG RESULTS: \n",
      "===============================\n",
      "RECALL SCORE:0.9825\n",
      "ACCURACY SCORE:0.9400\n",
      "CONFUSION MATRIX:\n",
      "[[38  5]\n",
      " [ 1 56]]\n",
      "CLASSIFICATION REPORT:\n",
      "              0     1  accuracy  macro avg  weighted avg\n",
      "precision  0.97  0.92      0.94       0.95          0.94\n",
      "recall     0.88  0.98      0.94       0.93          0.94\n",
      "f1-score   0.93  0.95      0.94       0.94          0.94\n",
      "support   43.00 57.00      0.94     100.00        100.00\n",
      "\n",
      "\n",
      "TESTING RESULTS: \n",
      "===============================\n",
      "RECALL SCORE:0.7500\n",
      "ACCURACY SCORE:0.6923\n",
      "CONFUSION MATRIX:\n",
      "[[9 5]\n",
      " [3 9]]\n",
      "F1-score:  0.6923\n",
      "Test ROC AUC: 0.8393 \n",
      "\n",
      "CLASSIFICATION REPORT:\n",
      "              0     1  accuracy  macro avg  weighted avg\n",
      "precision  0.75  0.64      0.69       0.70          0.70\n",
      "recall     0.64  0.75      0.69       0.70          0.69\n",
      "f1-score   0.69  0.69      0.69       0.69          0.69\n",
      "support   14.00 12.00      0.69      26.00         26.00\n"
     ]
    },
    {
     "data": {
      "image/png": "[encoded data removed]",
      "text/plain": [
       "<Figure size 432x288 with 1 Axes>"
      ]
     },
     "metadata": {
      "needs_background": "light"
     },
     "output_type": "display_data"
    }
   ],
   "source": [
    "evaluate(rfc, X_train, X_test, y_train, y_test)"
   ]
  },
  {
   "cell_type": "code",
   "execution_count": 26,
   "metadata": {},
   "outputs": [
    {
     "name": "stdout",
     "output_type": "stream",
     "text": [
      "Fitting 5 folds for each of 1 candidates, totalling 5 fits\n"
     ]
    },
    {
     "name": "stderr",
     "output_type": "stream",
     "text": [
      "[Parallel(n_jobs=-1)]: Using backend LokyBackend with 4 concurrent workers.\n"
     ]
    },
    {
     "name": "stdout",
     "output_type": "stream",
     "text": [
      "Tuned GridsearchCV Parameter: {'rfc__class_weight': None, 'rfc__criterion': 'gini', 'rfc__max_depth': None, 'rfc__random_state': 477}\n",
      "Tuned GridsearchCV Accuracy: 0.45999999999999996\n",
      "CPU times: user 210 ms, sys: 6.61 ms, total: 217 ms\n",
      "Wall time: 755 ms\n"
     ]
    },
    {
     "name": "stderr",
     "output_type": "stream",
     "text": [
      "[Parallel(n_jobs=-1)]: Done   5 out of   5 | elapsed:    0.6s finished\n"
     ]
    },
    {
     "data": {
      "text/plain": [
       "GridSearchCV(cv=5, error_score=nan,\n",
       "             estimator=Pipeline(memory=None,\n",
       "                                steps=[('scaler',\n",
       "                                        StandardScaler(copy=True,\n",
       "                                                       with_mean=True,\n",
       "                                                       with_std=True)),\n",
       "                                       ('rfc',\n",
       "                                        RandomForestClassifier(bootstrap=True,\n",
       "                                                               ccp_alpha=0.0,\n",
       "                                                               class_weight=None,\n",
       "                                                               criterion='gini',\n",
       "                                                               max_depth=None,\n",
       "                                                               max_features='auto',\n",
       "                                                               max_leaf_nodes=None,\n",
       "                                                               max_samples=None,\n",
       "                                                               min_impurity_decrease=0.0,\n",
       "                                                               min_impurity_split=N...\n",
       "                                                               min_weight_fraction_leaf=0.0,\n",
       "                                                               n_estimators=100,\n",
       "                                                               n_jobs=None,\n",
       "                                                               oob_score=False,\n",
       "                                                               random_state=None,\n",
       "                                                               verbose=0,\n",
       "                                                               warm_start=False))],\n",
       "                                verbose=False),\n",
       "             iid='deprecated', n_jobs=-1,\n",
       "             param_grid={'rfc__class_weight': [None],\n",
       "                         'rfc__criterion': ['gini'], 'rfc__max_depth': [None],\n",
       "                         'rfc__random_state': [477]},\n",
       "             pre_dispatch='2*n_jobs', refit=True, return_train_score=False,\n",
       "             scoring=None, verbose=True)"
      ]
     },
     "execution_count": 26,
     "metadata": {},
     "output_type": "execute_result"
    }
   ],
   "source": [
    "%%time\n",
    "# using STANDARD SCALER\n",
    "# Setup the pipeline\n",
    "steps = [('scaler', StandardScaler()),\n",
    "         ('rfc', RandomForestClassifier(n_estimators=100))\n",
    "         ]\n",
    "\n",
    "#steps = [('scaler', StandardScaler()),\n",
    "#         ('rfc', RandomForestClassifier(n_estimators=10))\n",
    "#         ]\n",
    "\n",
    "pipeline = Pipeline(steps)\n",
    "\n",
    "# Create the hyperparameter grid\n",
    "#c_space = np.logspace(-5, 8, 15)\n",
    "param_grid = {'rfc__max_depth': [None],\n",
    "                'rfc__class_weight': [None],\n",
    "                 'rfc__criterion' : ['gini'],\n",
    "                 'rfc__random_state' : [seed]}\n",
    "\n",
    "\n",
    "\n",
    "# Instantiate the GridSearchCV object: logreg_cv\n",
    "rfc = GridSearchCV(pipeline, param_grid, cv=5, verbose=True, n_jobs=-1)\n",
    "\n",
    "# Fit it to the training data\n",
    "rfc.fit(X_train, y_train)\n",
    "\n",
    "rfc_predict = rfc.predict(X_test)\n",
    "\n",
    "# Print the optimal parameters and best score\n",
    "print(\"Tuned GridsearchCV Parameter: {}\".format(rfc.best_params_))\n",
    "print(\"Tuned GridsearchCV Accuracy: {}\".format(rfc.best_score_))\n",
    "\n",
    "rfc"
   ]
  },
  {
   "cell_type": "markdown",
   "metadata": {},
   "source": [
    "### Adding StandardScaler to the pipeline impacts the result. The results vary with different feature sets, so it is inconculsive whether it should be used. It will be easy to run a test to remove this from the final model."
   ]
  },
  {
   "cell_type": "code",
   "execution_count": 27,
   "metadata": {},
   "outputs": [
    {
     "name": "stdout",
     "output_type": "stream",
     "text": [
      "TRAINIG RESULTS: \n",
      "===============================\n",
      "RECALL SCORE:0.9825\n",
      "ACCURACY SCORE:0.9400\n",
      "CONFUSION MATRIX:\n",
      "[[38  5]\n",
      " [ 1 56]]\n",
      "CLASSIFICATION REPORT:\n",
      "              0     1  accuracy  macro avg  weighted avg\n",
      "precision  0.97  0.92      0.94       0.95          0.94\n",
      "recall     0.88  0.98      0.94       0.93          0.94\n",
      "f1-score   0.93  0.95      0.94       0.94          0.94\n",
      "support   43.00 57.00      0.94     100.00        100.00\n",
      "\n",
      "\n",
      "TESTING RESULTS: \n",
      "===============================\n",
      "RECALL SCORE:0.7500\n",
      "ACCURACY SCORE:0.6923\n",
      "CONFUSION MATRIX:\n",
      "[[9 5]\n",
      " [3 9]]\n",
      "F1-score:  0.6923\n",
      "Test ROC AUC: 0.8393 \n",
      "\n",
      "CLASSIFICATION REPORT:\n",
      "              0     1  accuracy  macro avg  weighted avg\n",
      "precision  0.75  0.64      0.69       0.70          0.70\n",
      "recall     0.64  0.75      0.69       0.70          0.69\n",
      "f1-score   0.69  0.69      0.69       0.69          0.69\n",
      "support   14.00 12.00      0.69      26.00         26.00\n"
     ]
    },
    {
     "data": {
      "image/png": "[encoded data removed]",
      "text/plain": [
       "<Figure size 432x288 with 1 Axes>"
      ]
     },
     "metadata": {
      "needs_background": "light"
     },
     "output_type": "display_data"
    }
   ],
   "source": [
    "evaluate(rfc, X_train, X_test, y_train, y_test)"
   ]
  },
  {
   "cell_type": "code",
   "execution_count": null,
   "metadata": {},
   "outputs": [],
   "source": []
  },
  {
   "cell_type": "code",
   "execution_count": 28,
   "metadata": {},
   "outputs": [
    {
     "data": {
      "text/plain": [
       "Index(['DeliveredOnTime', 'ContentsCorrect', 'I ordered everything',\n",
       "       'GoodPrice', 'CourierSatisfaction', 'AppEasyOrdering', 'AvgSurvey'],\n",
       "      dtype='object')"
      ]
     },
     "execution_count": 28,
     "metadata": {},
     "output_type": "execute_result"
    }
   ],
   "source": [
    "df_cols = customer_data[:0]\n",
    "df_cols = df_cols.drop(['Happy'], axis = 1 )\n",
    "df_cols.columns"
   ]
  },
  {
   "cell_type": "code",
   "execution_count": 29,
   "metadata": {},
   "outputs": [
    {
     "data": {
      "text/plain": [
       "<AxesSubplot:>"
      ]
     },
     "execution_count": 29,
     "metadata": {},
     "output_type": "execute_result"
    },
    {
     "data": {
      "image/png": "[encoded data removed]",
      "text/plain": [
       "<Figure size 432x288 with 1 Axes>"
      ]
     },
     "metadata": {
      "needs_background": "light"
     },
     "output_type": "display_data"
    }
   ],
   "source": [
    "feat_importances = pd.Series(rfc.best_estimator_.named_steps['rfc'].feature_importances_,index=df_cols.columns)\n",
    "feat_importances.nlargest(10).plot(kind='barh')"
   ]
  },
  {
   "cell_type": "code",
   "execution_count": 30,
   "metadata": {},
   "outputs": [
    {
     "name": "stdout",
     "output_type": "stream",
     "text": [
      "AvgSurvey has a score of 0.23813199304238913\n",
      "I ordered everything has a score of 0.14106890692325394\n",
      "ContentsCorrect has a score of 0.13872018610417716\n",
      "GoodPrice has a score of 0.138437611156748\n",
      "CourierSatisfaction has a score of 0.13681508992825908\n",
      "DeliveredOnTime has a score of 0.10483223092449291\n",
      "AppEasyOrdering has a score of 0.10199398192067972\n"
     ]
    }
   ],
   "source": [
    "for item1,item2 in sorted(zip(rfc.best_estimator_.named_steps['rfc'].feature_importances_,df_cols.columns),reverse=True):\n",
    "    print(f'{item2} has a score of {item1}')"
   ]
  },
  {
   "cell_type": "code",
   "execution_count": 31,
   "metadata": {},
   "outputs": [
    {
     "data": {
      "text/html": [
       "<div>\n",
       "<style scoped>\n",
       "    .dataframe tbody tr th:only-of-type {\n",
       "        vertical-align: middle;\n",
       "    }\n",
       "\n",
       "    .dataframe tbody tr th {\n",
       "        vertical-align: top;\n",
       "    }\n",
       "\n",
       "    .dataframe thead th {\n",
       "        text-align: right;\n",
       "    }\n",
       "</style>\n",
       "<table border=\"1\" class=\"dataframe\">\n",
       "  <thead>\n",
       "    <tr style=\"text-align: right;\">\n",
       "      <th></th>\n",
       "      <th>importance</th>\n",
       "    </tr>\n",
       "  </thead>\n",
       "  <tbody>\n",
       "    <tr>\n",
       "      <th>AvgSurvey</th>\n",
       "      <td>0.23</td>\n",
       "    </tr>\n",
       "    <tr>\n",
       "      <th>I ordered everything</th>\n",
       "      <td>0.15</td>\n",
       "    </tr>\n",
       "    <tr>\n",
       "      <th>GoodPrice</th>\n",
       "      <td>0.15</td>\n",
       "    </tr>\n",
       "    <tr>\n",
       "      <th>ContentsCorrect</th>\n",
       "      <td>0.14</td>\n",
       "    </tr>\n",
       "    <tr>\n",
       "      <th>CourierSatisfaction</th>\n",
       "      <td>0.13</td>\n",
       "    </tr>\n",
       "    <tr>\n",
       "      <th>DeliveredOnTime</th>\n",
       "      <td>0.11</td>\n",
       "    </tr>\n",
       "    <tr>\n",
       "      <th>AppEasyOrdering</th>\n",
       "      <td>0.10</td>\n",
       "    </tr>\n",
       "  </tbody>\n",
       "</table>\n",
       "</div>"
      ],
      "text/plain": [
       "                      importance\n",
       "AvgSurvey                   0.23\n",
       "I ordered everything        0.15\n",
       "GoodPrice                   0.15\n",
       "ContentsCorrect             0.14\n",
       "CourierSatisfaction         0.13\n",
       "DeliveredOnTime             0.11\n",
       "AppEasyOrdering             0.10"
      ]
     },
     "execution_count": 31,
     "metadata": {},
     "output_type": "execute_result"
    }
   ],
   "source": [
    "# Instantiate and fit the random forest model. \n",
    "rf = RandomForestClassifier().fit(X_train, y_train) \n",
    "# Explore feature importances\n",
    "feature_importances = pd.DataFrame(rf.feature_importances_,\n",
    "                                   index = X_train.columns,\n",
    "                                    columns=['importance']).sort_values('importance', ascending=False)\n",
    "# Print sorted list of feature importances\n",
    "feature_importances"
   ]
  },
  {
   "cell_type": "markdown",
   "metadata": {},
   "source": [
    "## SHAP Analysis of feature importance"
   ]
  },
  {
   "cell_type": "code",
   "execution_count": 32,
   "metadata": {},
   "outputs": [
    {
     "data": {
      "image/png": "[encoded data removed]",
      "text/plain": [
       "<Figure size 576x309.6 with 1 Axes>"
      ]
     },
     "metadata": {
      "needs_background": "light"
     },
     "output_type": "display_data"
    }
   ],
   "source": [
    "import shap\n",
    "shap_values = shap.TreeExplainer(rf).shap_values(X_train)\n",
    "shap.summary_plot(shap_values, X_train, plot_type=\"bar\")"
   ]
  },
  {
   "cell_type": "markdown",
   "metadata": {},
   "source": [
    "## The SHAP feature impact results are not necessarily consistent with pandas feature importance or RFE rankings. This is another reason to be cautious about removing features just to improve model performance."
   ]
  },
  {
   "cell_type": "markdown",
   "metadata": {},
   "source": [
    "### Recursive Feature Elimination - Check Rank values 1 thru 5\n",
    "\n"
   ]
  },
  {
   "cell_type": "code",
   "execution_count": 33,
   "metadata": {},
   "outputs": [
    {
     "data": {
      "text/html": [
       "<div>\n",
       "<style scoped>\n",
       "    .dataframe tbody tr th:only-of-type {\n",
       "        vertical-align: middle;\n",
       "    }\n",
       "\n",
       "    .dataframe tbody tr th {\n",
       "        vertical-align: top;\n",
       "    }\n",
       "\n",
       "    .dataframe thead th {\n",
       "        text-align: right;\n",
       "    }\n",
       "</style>\n",
       "<table border=\"1\" class=\"dataframe\">\n",
       "  <thead>\n",
       "    <tr style=\"text-align: right;\">\n",
       "      <th></th>\n",
       "      <th>Feature</th>\n",
       "      <th>Ranking</th>\n",
       "    </tr>\n",
       "  </thead>\n",
       "  <tbody>\n",
       "    <tr>\n",
       "      <th>1</th>\n",
       "      <td>ContentsCorrect</td>\n",
       "      <td>1</td>\n",
       "    </tr>\n",
       "    <tr>\n",
       "      <th>2</th>\n",
       "      <td>I ordered everything</td>\n",
       "      <td>1</td>\n",
       "    </tr>\n",
       "    <tr>\n",
       "      <th>3</th>\n",
       "      <td>GoodPrice</td>\n",
       "      <td>1</td>\n",
       "    </tr>\n",
       "    <tr>\n",
       "      <th>4</th>\n",
       "      <td>CourierSatisfaction</td>\n",
       "      <td>1</td>\n",
       "    </tr>\n",
       "    <tr>\n",
       "      <th>6</th>\n",
       "      <td>AvgSurvey</td>\n",
       "      <td>1</td>\n",
       "    </tr>\n",
       "    <tr>\n",
       "      <th>0</th>\n",
       "      <td>DeliveredOnTime</td>\n",
       "      <td>2</td>\n",
       "    </tr>\n",
       "    <tr>\n",
       "      <th>5</th>\n",
       "      <td>AppEasyOrdering</td>\n",
       "      <td>3</td>\n",
       "    </tr>\n",
       "  </tbody>\n",
       "</table>\n",
       "</div>"
      ],
      "text/plain": [
       "                Feature  Ranking\n",
       "1       ContentsCorrect        1\n",
       "2  I ordered everything        1\n",
       "3             GoodPrice        1\n",
       "4   CourierSatisfaction        1\n",
       "6             AvgSurvey        1\n",
       "0       DeliveredOnTime        2\n",
       "5       AppEasyOrdering        3"
      ]
     },
     "execution_count": 33,
     "metadata": {},
     "output_type": "execute_result"
    }
   ],
   "source": [
    "# feature extraction, Random Forest\n",
    "\n",
    "rfe = RFE(rf, 5)\n",
    "fit = rfe.fit(X_train, y_train)\n",
    "selected_features = pd.DataFrame({'Feature':list(X.columns),'Ranking':fit.ranking_})\n",
    "selected_features.sort_values(by='Ranking')"
   ]
  },
  {
   "cell_type": "code",
   "execution_count": 34,
   "metadata": {},
   "outputs": [
    {
     "data": {
      "text/html": [
       "<div>\n",
       "<style scoped>\n",
       "    .dataframe tbody tr th:only-of-type {\n",
       "        vertical-align: middle;\n",
       "    }\n",
       "\n",
       "    .dataframe tbody tr th {\n",
       "        vertical-align: top;\n",
       "    }\n",
       "\n",
       "    .dataframe thead th {\n",
       "        text-align: right;\n",
       "    }\n",
       "</style>\n",
       "<table border=\"1\" class=\"dataframe\">\n",
       "  <thead>\n",
       "    <tr style=\"text-align: right;\">\n",
       "      <th></th>\n",
       "      <th>Feature</th>\n",
       "      <th>Ranking</th>\n",
       "    </tr>\n",
       "  </thead>\n",
       "  <tbody>\n",
       "    <tr>\n",
       "      <th>1</th>\n",
       "      <td>ContentsCorrect</td>\n",
       "      <td>1</td>\n",
       "    </tr>\n",
       "    <tr>\n",
       "      <th>3</th>\n",
       "      <td>GoodPrice</td>\n",
       "      <td>1</td>\n",
       "    </tr>\n",
       "    <tr>\n",
       "      <th>4</th>\n",
       "      <td>CourierSatisfaction</td>\n",
       "      <td>1</td>\n",
       "    </tr>\n",
       "    <tr>\n",
       "      <th>6</th>\n",
       "      <td>AvgSurvey</td>\n",
       "      <td>1</td>\n",
       "    </tr>\n",
       "    <tr>\n",
       "      <th>2</th>\n",
       "      <td>I ordered everything</td>\n",
       "      <td>2</td>\n",
       "    </tr>\n",
       "    <tr>\n",
       "      <th>0</th>\n",
       "      <td>DeliveredOnTime</td>\n",
       "      <td>3</td>\n",
       "    </tr>\n",
       "    <tr>\n",
       "      <th>5</th>\n",
       "      <td>AppEasyOrdering</td>\n",
       "      <td>4</td>\n",
       "    </tr>\n",
       "  </tbody>\n",
       "</table>\n",
       "</div>"
      ],
      "text/plain": [
       "                Feature  Ranking\n",
       "1       ContentsCorrect        1\n",
       "3             GoodPrice        1\n",
       "4   CourierSatisfaction        1\n",
       "6             AvgSurvey        1\n",
       "2  I ordered everything        2\n",
       "0       DeliveredOnTime        3\n",
       "5       AppEasyOrdering        4"
      ]
     },
     "execution_count": 34,
     "metadata": {},
     "output_type": "execute_result"
    }
   ],
   "source": [
    "rfe = RFE(rf, 4)\n",
    "fit = rfe.fit(X_train, y_train)\n",
    "selected_features = pd.DataFrame({'Feature':list(X.columns),'Ranking':fit.ranking_})\n",
    "selected_features.sort_values(by='Ranking')"
   ]
  },
  {
   "cell_type": "code",
   "execution_count": 35,
   "metadata": {},
   "outputs": [
    {
     "data": {
      "text/html": [
       "<div>\n",
       "<style scoped>\n",
       "    .dataframe tbody tr th:only-of-type {\n",
       "        vertical-align: middle;\n",
       "    }\n",
       "\n",
       "    .dataframe tbody tr th {\n",
       "        vertical-align: top;\n",
       "    }\n",
       "\n",
       "    .dataframe thead th {\n",
       "        text-align: right;\n",
       "    }\n",
       "</style>\n",
       "<table border=\"1\" class=\"dataframe\">\n",
       "  <thead>\n",
       "    <tr style=\"text-align: right;\">\n",
       "      <th></th>\n",
       "      <th>Feature</th>\n",
       "      <th>Ranking</th>\n",
       "    </tr>\n",
       "  </thead>\n",
       "  <tbody>\n",
       "    <tr>\n",
       "      <th>1</th>\n",
       "      <td>ContentsCorrect</td>\n",
       "      <td>1</td>\n",
       "    </tr>\n",
       "    <tr>\n",
       "      <th>3</th>\n",
       "      <td>GoodPrice</td>\n",
       "      <td>1</td>\n",
       "    </tr>\n",
       "    <tr>\n",
       "      <th>6</th>\n",
       "      <td>AvgSurvey</td>\n",
       "      <td>1</td>\n",
       "    </tr>\n",
       "    <tr>\n",
       "      <th>2</th>\n",
       "      <td>I ordered everything</td>\n",
       "      <td>2</td>\n",
       "    </tr>\n",
       "    <tr>\n",
       "      <th>4</th>\n",
       "      <td>CourierSatisfaction</td>\n",
       "      <td>3</td>\n",
       "    </tr>\n",
       "    <tr>\n",
       "      <th>0</th>\n",
       "      <td>DeliveredOnTime</td>\n",
       "      <td>4</td>\n",
       "    </tr>\n",
       "    <tr>\n",
       "      <th>5</th>\n",
       "      <td>AppEasyOrdering</td>\n",
       "      <td>5</td>\n",
       "    </tr>\n",
       "  </tbody>\n",
       "</table>\n",
       "</div>"
      ],
      "text/plain": [
       "                Feature  Ranking\n",
       "1       ContentsCorrect        1\n",
       "3             GoodPrice        1\n",
       "6             AvgSurvey        1\n",
       "2  I ordered everything        2\n",
       "4   CourierSatisfaction        3\n",
       "0       DeliveredOnTime        4\n",
       "5       AppEasyOrdering        5"
      ]
     },
     "execution_count": 35,
     "metadata": {},
     "output_type": "execute_result"
    }
   ],
   "source": [
    "rfe = RFE(rf, 3)\n",
    "fit = rfe.fit(X_train, y_train)\n",
    "selected_features = pd.DataFrame({'Feature':list(X.columns),'Ranking':fit.ranking_})\n",
    "selected_features.sort_values(by='Ranking')"
   ]
  },
  {
   "cell_type": "code",
   "execution_count": 36,
   "metadata": {},
   "outputs": [
    {
     "data": {
      "text/html": [
       "<div>\n",
       "<style scoped>\n",
       "    .dataframe tbody tr th:only-of-type {\n",
       "        vertical-align: middle;\n",
       "    }\n",
       "\n",
       "    .dataframe tbody tr th {\n",
       "        vertical-align: top;\n",
       "    }\n",
       "\n",
       "    .dataframe thead th {\n",
       "        text-align: right;\n",
       "    }\n",
       "</style>\n",
       "<table border=\"1\" class=\"dataframe\">\n",
       "  <thead>\n",
       "    <tr style=\"text-align: right;\">\n",
       "      <th></th>\n",
       "      <th>Feature</th>\n",
       "      <th>Ranking</th>\n",
       "    </tr>\n",
       "  </thead>\n",
       "  <tbody>\n",
       "    <tr>\n",
       "      <th>1</th>\n",
       "      <td>ContentsCorrect</td>\n",
       "      <td>1</td>\n",
       "    </tr>\n",
       "    <tr>\n",
       "      <th>6</th>\n",
       "      <td>AvgSurvey</td>\n",
       "      <td>1</td>\n",
       "    </tr>\n",
       "    <tr>\n",
       "      <th>3</th>\n",
       "      <td>GoodPrice</td>\n",
       "      <td>2</td>\n",
       "    </tr>\n",
       "    <tr>\n",
       "      <th>4</th>\n",
       "      <td>CourierSatisfaction</td>\n",
       "      <td>3</td>\n",
       "    </tr>\n",
       "    <tr>\n",
       "      <th>2</th>\n",
       "      <td>I ordered everything</td>\n",
       "      <td>4</td>\n",
       "    </tr>\n",
       "    <tr>\n",
       "      <th>0</th>\n",
       "      <td>DeliveredOnTime</td>\n",
       "      <td>5</td>\n",
       "    </tr>\n",
       "    <tr>\n",
       "      <th>5</th>\n",
       "      <td>AppEasyOrdering</td>\n",
       "      <td>6</td>\n",
       "    </tr>\n",
       "  </tbody>\n",
       "</table>\n",
       "</div>"
      ],
      "text/plain": [
       "                Feature  Ranking\n",
       "1       ContentsCorrect        1\n",
       "6             AvgSurvey        1\n",
       "3             GoodPrice        2\n",
       "4   CourierSatisfaction        3\n",
       "2  I ordered everything        4\n",
       "0       DeliveredOnTime        5\n",
       "5       AppEasyOrdering        6"
      ]
     },
     "execution_count": 36,
     "metadata": {},
     "output_type": "execute_result"
    }
   ],
   "source": [
    "rfe = RFE(rf, 2)\n",
    "fit = rfe.fit(X_train, y_train)\n",
    "selected_features = pd.DataFrame({'Feature':list(X.columns),'Ranking':fit.ranking_})\n",
    "selected_features.sort_values(by='Ranking')"
   ]
  },
  {
   "cell_type": "code",
   "execution_count": 37,
   "metadata": {},
   "outputs": [
    {
     "data": {
      "text/html": [
       "<div>\n",
       "<style scoped>\n",
       "    .dataframe tbody tr th:only-of-type {\n",
       "        vertical-align: middle;\n",
       "    }\n",
       "\n",
       "    .dataframe tbody tr th {\n",
       "        vertical-align: top;\n",
       "    }\n",
       "\n",
       "    .dataframe thead th {\n",
       "        text-align: right;\n",
       "    }\n",
       "</style>\n",
       "<table border=\"1\" class=\"dataframe\">\n",
       "  <thead>\n",
       "    <tr style=\"text-align: right;\">\n",
       "      <th></th>\n",
       "      <th>Feature</th>\n",
       "      <th>Ranking</th>\n",
       "    </tr>\n",
       "  </thead>\n",
       "  <tbody>\n",
       "    <tr>\n",
       "      <th>6</th>\n",
       "      <td>AvgSurvey</td>\n",
       "      <td>1</td>\n",
       "    </tr>\n",
       "    <tr>\n",
       "      <th>1</th>\n",
       "      <td>ContentsCorrect</td>\n",
       "      <td>2</td>\n",
       "    </tr>\n",
       "    <tr>\n",
       "      <th>4</th>\n",
       "      <td>CourierSatisfaction</td>\n",
       "      <td>3</td>\n",
       "    </tr>\n",
       "    <tr>\n",
       "      <th>3</th>\n",
       "      <td>GoodPrice</td>\n",
       "      <td>4</td>\n",
       "    </tr>\n",
       "    <tr>\n",
       "      <th>2</th>\n",
       "      <td>I ordered everything</td>\n",
       "      <td>5</td>\n",
       "    </tr>\n",
       "    <tr>\n",
       "      <th>0</th>\n",
       "      <td>DeliveredOnTime</td>\n",
       "      <td>6</td>\n",
       "    </tr>\n",
       "    <tr>\n",
       "      <th>5</th>\n",
       "      <td>AppEasyOrdering</td>\n",
       "      <td>7</td>\n",
       "    </tr>\n",
       "  </tbody>\n",
       "</table>\n",
       "</div>"
      ],
      "text/plain": [
       "                Feature  Ranking\n",
       "6             AvgSurvey        1\n",
       "1       ContentsCorrect        2\n",
       "4   CourierSatisfaction        3\n",
       "3             GoodPrice        4\n",
       "2  I ordered everything        5\n",
       "0       DeliveredOnTime        6\n",
       "5       AppEasyOrdering        7"
      ]
     },
     "execution_count": 37,
     "metadata": {},
     "output_type": "execute_result"
    }
   ],
   "source": [
    "rfe = RFE(rf, 1)\n",
    "fit = rfe.fit(X_train, y_train)\n",
    "selected_features = pd.DataFrame({'Feature':list(X.columns),'Ranking':fit.ranking_})\n",
    "selected_features.sort_values(by='Ranking')"
   ]
  },
  {
   "cell_type": "code",
   "execution_count": null,
   "metadata": {},
   "outputs": [],
   "source": []
  },
  {
   "cell_type": "code",
   "execution_count": 38,
   "metadata": {},
   "outputs": [],
   "source": [
    "# drop the 'easy_ordering_app' feature from train and test set\n",
    "X_train_rfe = X_train.drop(columns=['AppEasyOrdering'])\n",
    "X_test_rfe = X_test.drop(columns=['AppEasyOrdering'])"
   ]
  },
  {
   "cell_type": "code",
   "execution_count": 39,
   "metadata": {},
   "outputs": [
    {
     "name": "stdout",
     "output_type": "stream",
     "text": [
      "Fitting 5 folds for each of 1 candidates, totalling 5 fits\n"
     ]
    },
    {
     "name": "stderr",
     "output_type": "stream",
     "text": [
      "[Parallel(n_jobs=-1)]: Using backend LokyBackend with 4 concurrent workers.\n",
      "[Parallel(n_jobs=-1)]: Done   5 out of   5 | elapsed:    0.7s finished\n"
     ]
    }
   ],
   "source": [
    "rfc.fit(X_train_rfe, y_train)\n",
    "\n",
    "rfc_predict = rfc.predict(X_test_rfe)\n"
   ]
  },
  {
   "cell_type": "markdown",
   "metadata": {},
   "source": [
    "### After removing the lowest ranked feature, the improvement is not conclusive compared to the default model without adjustments. Removing a second feature is also inconclusive.  "
   ]
  },
  {
   "cell_type": "code",
   "execution_count": 40,
   "metadata": {},
   "outputs": [
    {
     "name": "stdout",
     "output_type": "stream",
     "text": [
      "TRAINIG RESULTS: \n",
      "===============================\n",
      "RECALL SCORE:0.9825\n",
      "ACCURACY SCORE:0.9400\n",
      "CONFUSION MATRIX:\n",
      "[[38  5]\n",
      " [ 1 56]]\n",
      "CLASSIFICATION REPORT:\n",
      "              0     1  accuracy  macro avg  weighted avg\n",
      "precision  0.97  0.92      0.94       0.95          0.94\n",
      "recall     0.88  0.98      0.94       0.93          0.94\n",
      "f1-score   0.93  0.95      0.94       0.94          0.94\n",
      "support   43.00 57.00      0.94     100.00        100.00\n",
      "\n",
      "\n",
      "TESTING RESULTS: \n",
      "===============================\n",
      "RECALL SCORE:0.5833\n",
      "ACCURACY SCORE:0.6538\n",
      "CONFUSION MATRIX:\n",
      "[[10  4]\n",
      " [ 5  7]]\n",
      "F1-score:  0.6087\n",
      "Test ROC AUC: 0.8095 \n",
      "\n",
      "CLASSIFICATION REPORT:\n",
      "              0     1  accuracy  macro avg  weighted avg\n",
      "precision  0.67  0.64      0.65       0.65          0.65\n",
      "recall     0.71  0.58      0.65       0.65          0.65\n",
      "f1-score   0.69  0.61      0.65       0.65          0.65\n",
      "support   14.00 12.00      0.65      26.00         26.00\n"
     ]
    },
    {
     "data": {
      "image/png": "[encoded data removed]",
      "text/plain": [
       "<Figure size 432x288 with 1 Axes>"
      ]
     },
     "metadata": {
      "needs_background": "light"
     },
     "output_type": "display_data"
    }
   ],
   "source": [
    "evaluate(rfc, X_train_rfe, X_test_rfe, y_train, y_test)"
   ]
  },
  {
   "cell_type": "code",
   "execution_count": 41,
   "metadata": {},
   "outputs": [
    {
     "data": {
      "text/html": [
       "<div>\n",
       "<style scoped>\n",
       "    .dataframe tbody tr th:only-of-type {\n",
       "        vertical-align: middle;\n",
       "    }\n",
       "\n",
       "    .dataframe tbody tr th {\n",
       "        vertical-align: top;\n",
       "    }\n",
       "\n",
       "    .dataframe thead th {\n",
       "        text-align: right;\n",
       "    }\n",
       "</style>\n",
       "<table border=\"1\" class=\"dataframe\">\n",
       "  <thead>\n",
       "    <tr style=\"text-align: right;\">\n",
       "      <th></th>\n",
       "      <th>importance</th>\n",
       "    </tr>\n",
       "  </thead>\n",
       "  <tbody>\n",
       "    <tr>\n",
       "      <th>AvgSurvey</th>\n",
       "      <td>0.27</td>\n",
       "    </tr>\n",
       "    <tr>\n",
       "      <th>ContentsCorrect</th>\n",
       "      <td>0.17</td>\n",
       "    </tr>\n",
       "    <tr>\n",
       "      <th>CourierSatisfaction</th>\n",
       "      <td>0.15</td>\n",
       "    </tr>\n",
       "    <tr>\n",
       "      <th>I ordered everything</th>\n",
       "      <td>0.15</td>\n",
       "    </tr>\n",
       "    <tr>\n",
       "      <th>GoodPrice</th>\n",
       "      <td>0.15</td>\n",
       "    </tr>\n",
       "    <tr>\n",
       "      <th>DeliveredOnTime</th>\n",
       "      <td>0.12</td>\n",
       "    </tr>\n",
       "  </tbody>\n",
       "</table>\n",
       "</div>"
      ],
      "text/plain": [
       "                      importance\n",
       "AvgSurvey                   0.27\n",
       "ContentsCorrect             0.17\n",
       "CourierSatisfaction         0.15\n",
       "I ordered everything        0.15\n",
       "GoodPrice                   0.15\n",
       "DeliveredOnTime             0.12"
      ]
     },
     "execution_count": 41,
     "metadata": {},
     "output_type": "execute_result"
    }
   ],
   "source": [
    "feature_importances = pd.DataFrame(rfc.best_estimator_.named_steps[\"rfc\"].feature_importances_,\n",
    "                                   index = X_train_rfe.columns,\n",
    "                                    columns=['importance']).sort_values('importance', ascending=False)\n",
    "# Print sorted list of feature importances\n",
    "feature_importances"
   ]
  },
  {
   "cell_type": "code",
   "execution_count": 42,
   "metadata": {},
   "outputs": [],
   "source": [
    "# drop the 'easy_ordering_app' feature from train and test set\n",
    "X_train_rfe = X_train.drop(columns=['AppEasyOrdering','I ordered everything'])\n",
    "X_test_rfe = X_test.drop(columns=['AppEasyOrdering','I ordered everything'])"
   ]
  },
  {
   "cell_type": "code",
   "execution_count": 43,
   "metadata": {},
   "outputs": [
    {
     "name": "stdout",
     "output_type": "stream",
     "text": [
      "Fitting 5 folds for each of 1 candidates, totalling 5 fits\n"
     ]
    },
    {
     "name": "stderr",
     "output_type": "stream",
     "text": [
      "[Parallel(n_jobs=-1)]: Using backend LokyBackend with 4 concurrent workers.\n",
      "[Parallel(n_jobs=-1)]: Done   5 out of   5 | elapsed:    0.6s finished\n"
     ]
    }
   ],
   "source": [
    "rfc.fit(X_train_rfe, y_train)\n",
    "\n",
    "rfc_predict = rfc.predict(X_test_rfe)\n"
   ]
  },
  {
   "cell_type": "code",
   "execution_count": 44,
   "metadata": {},
   "outputs": [
    {
     "name": "stdout",
     "output_type": "stream",
     "text": [
      "TRAINIG RESULTS: \n",
      "===============================\n",
      "RECALL SCORE:0.9825\n",
      "ACCURACY SCORE:0.9400\n",
      "CONFUSION MATRIX:\n",
      "[[38  5]\n",
      " [ 1 56]]\n",
      "CLASSIFICATION REPORT:\n",
      "              0     1  accuracy  macro avg  weighted avg\n",
      "precision  0.97  0.92      0.94       0.95          0.94\n",
      "recall     0.88  0.98      0.94       0.93          0.94\n",
      "f1-score   0.93  0.95      0.94       0.94          0.94\n",
      "support   43.00 57.00      0.94     100.00        100.00\n",
      "\n",
      "\n",
      "TESTING RESULTS: \n",
      "===============================\n",
      "RECALL SCORE:0.8333\n",
      "ACCURACY SCORE:0.7692\n",
      "CONFUSION MATRIX:\n",
      "[[10  4]\n",
      " [ 2 10]]\n",
      "F1-score:  0.7692\n",
      "Test ROC AUC: 0.8095 \n",
      "\n",
      "CLASSIFICATION REPORT:\n",
      "              0     1  accuracy  macro avg  weighted avg\n",
      "precision  0.83  0.71      0.77       0.77          0.78\n",
      "recall     0.71  0.83      0.77       0.77          0.77\n",
      "f1-score   0.77  0.77      0.77       0.77          0.77\n",
      "support   14.00 12.00      0.77      26.00         26.00\n"
     ]
    },
    {
     "data": {
      "image/png": "[encoded data removed]",
      "text/plain": [
       "<Figure size 432x288 with 1 Axes>"
      ]
     },
     "metadata": {
      "needs_background": "light"
     },
     "output_type": "display_data"
    }
   ],
   "source": [
    "evaluate(rfc, X_train_rfe, X_test_rfe, y_train, y_test)"
   ]
  },
  {
   "cell_type": "code",
   "execution_count": 45,
   "metadata": {},
   "outputs": [
    {
     "data": {
      "text/html": [
       "<div>\n",
       "<style scoped>\n",
       "    .dataframe tbody tr th:only-of-type {\n",
       "        vertical-align: middle;\n",
       "    }\n",
       "\n",
       "    .dataframe tbody tr th {\n",
       "        vertical-align: top;\n",
       "    }\n",
       "\n",
       "    .dataframe thead th {\n",
       "        text-align: right;\n",
       "    }\n",
       "</style>\n",
       "<table border=\"1\" class=\"dataframe\">\n",
       "  <thead>\n",
       "    <tr style=\"text-align: right;\">\n",
       "      <th></th>\n",
       "      <th>importance</th>\n",
       "    </tr>\n",
       "  </thead>\n",
       "  <tbody>\n",
       "    <tr>\n",
       "      <th>AvgSurvey</th>\n",
       "      <td>0.34</td>\n",
       "    </tr>\n",
       "    <tr>\n",
       "      <th>ContentsCorrect</th>\n",
       "      <td>0.20</td>\n",
       "    </tr>\n",
       "    <tr>\n",
       "      <th>CourierSatisfaction</th>\n",
       "      <td>0.18</td>\n",
       "    </tr>\n",
       "    <tr>\n",
       "      <th>GoodPrice</th>\n",
       "      <td>0.17</td>\n",
       "    </tr>\n",
       "    <tr>\n",
       "      <th>DeliveredOnTime</th>\n",
       "      <td>0.12</td>\n",
       "    </tr>\n",
       "  </tbody>\n",
       "</table>\n",
       "</div>"
      ],
      "text/plain": [
       "                     importance\n",
       "AvgSurvey                  0.34\n",
       "ContentsCorrect            0.20\n",
       "CourierSatisfaction        0.18\n",
       "GoodPrice                  0.17\n",
       "DeliveredOnTime            0.12"
      ]
     },
     "execution_count": 45,
     "metadata": {},
     "output_type": "execute_result"
    }
   ],
   "source": [
    "feature_importances = pd.DataFrame(rfc.best_estimator_.named_steps[\"rfc\"].feature_importances_,\n",
    "                                   index = X_train_rfe.columns,\n",
    "                                    columns=['importance']).sort_values('importance', ascending=False)\n",
    "# Print sorted list of feature importances\n",
    "feature_importances"
   ]
  },
  {
   "cell_type": "code",
   "execution_count": 46,
   "metadata": {},
   "outputs": [
    {
     "name": "stdout",
     "output_type": "stream",
     "text": [
      "Fitting 5 folds for each of 1 candidates, totalling 5 fits\n"
     ]
    },
    {
     "name": "stderr",
     "output_type": "stream",
     "text": [
      "[Parallel(n_jobs=-1)]: Using backend LokyBackend with 4 concurrent workers.\n"
     ]
    },
    {
     "name": "stdout",
     "output_type": "stream",
     "text": [
      "Tuned GridsearchCV Parameter: {'rfc__class_weight': None, 'rfc__criterion': 'gini', 'rfc__max_depth': None, 'rfc__random_state': 477}\n",
      "Tuned GridsearchCV Accuracy: 0.45\n",
      "CPU times: user 206 ms, sys: 7.21 ms, total: 213 ms\n",
      "Wall time: 732 ms\n"
     ]
    },
    {
     "name": "stderr",
     "output_type": "stream",
     "text": [
      "[Parallel(n_jobs=-1)]: Done   5 out of   5 | elapsed:    0.6s finished\n"
     ]
    },
    {
     "data": {
      "text/plain": [
       "GridSearchCV(cv=5, error_score=nan,\n",
       "             estimator=Pipeline(memory=None,\n",
       "                                steps=[('rfc',\n",
       "                                        RandomForestClassifier(bootstrap=True,\n",
       "                                                               ccp_alpha=0.0,\n",
       "                                                               class_weight=None,\n",
       "                                                               criterion='gini',\n",
       "                                                               max_depth=None,\n",
       "                                                               max_features='auto',\n",
       "                                                               max_leaf_nodes=None,\n",
       "                                                               max_samples=None,\n",
       "                                                               min_impurity_decrease=0.0,\n",
       "                                                               min_impurity_split=None,\n",
       "                                                               min_samples_leaf=1,\n",
       "                                                               min_samples_split=2,\n",
       "                                                               min_weight_fraction_leaf=0.0,\n",
       "                                                               n_estimators=100,\n",
       "                                                               n_jobs=None,\n",
       "                                                               oob_score=False,\n",
       "                                                               random_state=None,\n",
       "                                                               verbose=0,\n",
       "                                                               warm_start=False))],\n",
       "                                verbose=False),\n",
       "             iid='deprecated', n_jobs=-1,\n",
       "             param_grid={'rfc__class_weight': [None],\n",
       "                         'rfc__criterion': ['gini'], 'rfc__max_depth': [None],\n",
       "                         'rfc__random_state': [477]},\n",
       "             pre_dispatch='2*n_jobs', refit=True, return_train_score=False,\n",
       "             scoring=None, verbose=True)"
      ]
     },
     "execution_count": 46,
     "metadata": {},
     "output_type": "execute_result"
    }
   ],
   "source": [
    "%%time\n",
    "# RUN THE PIPELINE WITH DEFAULT PARAMETERS BEFORE USING STANDARD SCALER\n",
    "# Setup the pipeline\n",
    "steps = [\n",
    "         ('rfc', RandomForestClassifier(n_estimators=100))\n",
    "         ]\n",
    "\n",
    "#steps = [('scaler', StandardScaler()),\n",
    "#         ('rfc', RandomForestClassifier(n_estimators=10))\n",
    "#         ]\n",
    "\n",
    "pipeline = Pipeline(steps)\n",
    "\n",
    "# Create the hyperparameter grid\n",
    "#c_space = np.logspace(-5, 8, 15)\n",
    "param_grid = {'rfc__max_depth': [None],\n",
    "                'rfc__class_weight': [None],\n",
    "                 'rfc__criterion' : ['gini'],\n",
    "                 'rfc__random_state' : [seed]}\n",
    "\n",
    "# Instantiate the GridSearchCV object: logreg_cv\n",
    "rfc = GridSearchCV(pipeline, param_grid, cv=5, verbose=True, n_jobs=-1)\n",
    "\n",
    "# Fit it to the training data\n",
    "rfc.fit(X_train, y_train)\n",
    "\n",
    "rfc_predict = rfc.predict(X_test)\n",
    "\n",
    "# Print the optimal parameters and best score\n",
    "print(\"Tuned GridsearchCV Parameter: {}\".format(rfc.best_params_))\n",
    "print(\"Tuned GridsearchCV Accuracy: {}\".format(rfc.best_score_))\n",
    "\n",
    "rfc"
   ]
  },
  {
   "cell_type": "code",
   "execution_count": 47,
   "metadata": {},
   "outputs": [],
   "source": [
    "# drop the 'easy_ordering_app' feature from train and test set\n",
    "X_train_rfe = X_train.drop(columns=['AppEasyOrdering'])\n",
    "X_test_rfe = X_test.drop(columns=['AppEasyOrdering'])"
   ]
  },
  {
   "cell_type": "code",
   "execution_count": 48,
   "metadata": {},
   "outputs": [
    {
     "name": "stdout",
     "output_type": "stream",
     "text": [
      "Fitting 5 folds for each of 1 candidates, totalling 5 fits\n"
     ]
    },
    {
     "name": "stderr",
     "output_type": "stream",
     "text": [
      "[Parallel(n_jobs=-1)]: Using backend LokyBackend with 4 concurrent workers.\n",
      "[Parallel(n_jobs=-1)]: Done   5 out of   5 | elapsed:    0.6s finished\n"
     ]
    }
   ],
   "source": [
    "rfc.fit(X_train_rfe, y_train)\n",
    "\n",
    "rfc_predict = rfc.predict(X_test_rfe)\n"
   ]
  },
  {
   "cell_type": "code",
   "execution_count": 49,
   "metadata": {},
   "outputs": [
    {
     "name": "stdout",
     "output_type": "stream",
     "text": [
      "TRAINIG RESULTS: \n",
      "===============================\n",
      "RECALL SCORE:0.9825\n",
      "ACCURACY SCORE:0.9400\n",
      "CONFUSION MATRIX:\n",
      "[[38  5]\n",
      " [ 1 56]]\n",
      "CLASSIFICATION REPORT:\n",
      "              0     1  accuracy  macro avg  weighted avg\n",
      "precision  0.97  0.92      0.94       0.95          0.94\n",
      "recall     0.88  0.98      0.94       0.93          0.94\n",
      "f1-score   0.93  0.95      0.94       0.94          0.94\n",
      "support   43.00 57.00      0.94     100.00        100.00\n",
      "\n",
      "\n",
      "TESTING RESULTS: \n",
      "===============================\n",
      "RECALL SCORE:0.5833\n",
      "ACCURACY SCORE:0.6923\n",
      "CONFUSION MATRIX:\n",
      "[[11  3]\n",
      " [ 5  7]]\n",
      "F1-score:  0.6364\n",
      "Test ROC AUC: 0.8155 \n",
      "\n",
      "CLASSIFICATION REPORT:\n",
      "              0     1  accuracy  macro avg  weighted avg\n",
      "precision  0.69  0.70      0.69       0.69          0.69\n",
      "recall     0.79  0.58      0.69       0.68          0.69\n",
      "f1-score   0.73  0.64      0.69       0.68          0.69\n",
      "support   14.00 12.00      0.69      26.00         26.00\n"
     ]
    },
    {
     "data": {
      "image/png": "[encoded data removed]",
      "text/plain": [
       "<Figure size 432x288 with 1 Axes>"
      ]
     },
     "metadata": {
      "needs_background": "light"
     },
     "output_type": "display_data"
    }
   ],
   "source": [
    "evaluate(rfc, X_train_rfe, X_test_rfe, y_train, y_test)"
   ]
  },
  {
   "cell_type": "code",
   "execution_count": 50,
   "metadata": {},
   "outputs": [],
   "source": [
    "# drop the 'easy_ordering_app' feature from train and test set\n",
    "X_train_rfe = X_train.drop(columns=['AppEasyOrdering','GoodPrice'])\n",
    "X_test_rfe = X_test.drop(columns=['AppEasyOrdering','GoodPrice'])"
   ]
  },
  {
   "cell_type": "code",
   "execution_count": 51,
   "metadata": {},
   "outputs": [
    {
     "name": "stdout",
     "output_type": "stream",
     "text": [
      "Fitting 5 folds for each of 1 candidates, totalling 5 fits\n"
     ]
    },
    {
     "name": "stderr",
     "output_type": "stream",
     "text": [
      "[Parallel(n_jobs=-1)]: Using backend LokyBackend with 4 concurrent workers.\n",
      "[Parallel(n_jobs=-1)]: Done   5 out of   5 | elapsed:    0.5s finished\n"
     ]
    }
   ],
   "source": [
    "rfc.fit(X_train_rfe, y_train)\n",
    "\n",
    "rfc_predict = rfc.predict(X_test_rfe)\n"
   ]
  },
  {
   "cell_type": "code",
   "execution_count": 52,
   "metadata": {},
   "outputs": [
    {
     "name": "stdout",
     "output_type": "stream",
     "text": [
      "TRAINIG RESULTS: \n",
      "===============================\n",
      "RECALL SCORE:0.9649\n",
      "ACCURACY SCORE:0.9400\n",
      "CONFUSION MATRIX:\n",
      "[[39  4]\n",
      " [ 2 55]]\n",
      "CLASSIFICATION REPORT:\n",
      "              0     1  accuracy  macro avg  weighted avg\n",
      "precision  0.95  0.93      0.94       0.94          0.94\n",
      "recall     0.91  0.96      0.94       0.94          0.94\n",
      "f1-score   0.93  0.95      0.94       0.94          0.94\n",
      "support   43.00 57.00      0.94     100.00        100.00\n",
      "\n",
      "\n",
      "TESTING RESULTS: \n",
      "===============================\n",
      "RECALL SCORE:0.5833\n",
      "ACCURACY SCORE:0.8077\n",
      "CONFUSION MATRIX:\n",
      "[[14  0]\n",
      " [ 5  7]]\n",
      "F1-score:  0.7368\n",
      "Test ROC AUC: 0.7708 \n",
      "\n",
      "CLASSIFICATION REPORT:\n",
      "              0     1  accuracy  macro avg  weighted avg\n",
      "precision  0.74  1.00      0.81       0.87          0.86\n",
      "recall     1.00  0.58      0.81       0.79          0.81\n",
      "f1-score   0.85  0.74      0.81       0.79          0.80\n",
      "support   14.00 12.00      0.81      26.00         26.00\n"
     ]
    },
    {
     "data": {
      "image/png": "[encoded data removed]",
      "text/plain": [
       "<Figure size 432x288 with 1 Axes>"
      ]
     },
     "metadata": {
      "needs_background": "light"
     },
     "output_type": "display_data"
    }
   ],
   "source": [
    "evaluate(rfc, X_train_rfe, X_test_rfe, y_train, y_test)"
   ]
  },
  {
   "cell_type": "markdown",
   "metadata": {},
   "source": [
    "## Restore the full set of features plus Avg, before MODEL TUNING"
   ]
  },
  {
   "cell_type": "code",
   "execution_count": 53,
   "metadata": {},
   "outputs": [
    {
     "name": "stdout",
     "output_type": "stream",
     "text": [
      "X Training set sample size: 100\n",
      "X Testing set sample size: 26\n",
      "y Training set sample size: 100\n",
      "y Testing set sample size: 26\n"
     ]
    }
   ],
   "source": [
    "# split the data into training and test sets\n",
    "X_train, X_test, y_train, y_test = train_test_split(X, y, random_state=seed, test_size=0.2)\n",
    "\n",
    "# Show the results of the split\n",
    "print(\"X Training set sample size:\", (X_train.shape[0]))\n",
    "print(\"X Testing set sample size:\", (X_test.shape[0]))\n",
    "print(\"y Training set sample size:\", (y_train.shape[0]))\n",
    "print(\"y Testing set sample size:\", (y_test.shape[0]))"
   ]
  },
  {
   "cell_type": "code",
   "execution_count": 54,
   "metadata": {},
   "outputs": [
    {
     "name": "stdout",
     "output_type": "stream",
     "text": [
      "Fitting 5 folds for each of 1 candidates, totalling 5 fits\n"
     ]
    },
    {
     "name": "stderr",
     "output_type": "stream",
     "text": [
      "[Parallel(n_jobs=-1)]: Using backend LokyBackend with 4 concurrent workers.\n"
     ]
    },
    {
     "name": "stdout",
     "output_type": "stream",
     "text": [
      "Tuned GridsearchCV Parameter: {'rfc__class_weight': None, 'rfc__criterion': 'gini', 'rfc__max_depth': None, 'rfc__random_state': 477}\n",
      "Tuned GridsearchCV Accuracy: 0.45999999999999996\n",
      "CPU times: user 207 ms, sys: 9.08 ms, total: 216 ms\n",
      "Wall time: 775 ms\n"
     ]
    },
    {
     "name": "stderr",
     "output_type": "stream",
     "text": [
      "[Parallel(n_jobs=-1)]: Done   5 out of   5 | elapsed:    0.6s finished\n"
     ]
    },
    {
     "data": {
      "text/plain": [
       "GridSearchCV(cv=5, error_score=nan,\n",
       "             estimator=Pipeline(memory=None,\n",
       "                                steps=[('scaler',\n",
       "                                        StandardScaler(copy=True,\n",
       "                                                       with_mean=True,\n",
       "                                                       with_std=True)),\n",
       "                                       ('rfc',\n",
       "                                        RandomForestClassifier(bootstrap=True,\n",
       "                                                               ccp_alpha=0.0,\n",
       "                                                               class_weight=None,\n",
       "                                                               criterion='gini',\n",
       "                                                               max_depth=None,\n",
       "                                                               max_features='auto',\n",
       "                                                               max_leaf_nodes=None,\n",
       "                                                               max_samples=None,\n",
       "                                                               min_impurity_decrease=0.0,\n",
       "                                                               min_impurity_split=N...\n",
       "                                                               min_weight_fraction_leaf=0.0,\n",
       "                                                               n_estimators=100,\n",
       "                                                               n_jobs=None,\n",
       "                                                               oob_score=False,\n",
       "                                                               random_state=None,\n",
       "                                                               verbose=0,\n",
       "                                                               warm_start=False))],\n",
       "                                verbose=False),\n",
       "             iid='deprecated', n_jobs=-1,\n",
       "             param_grid={'rfc__class_weight': [None],\n",
       "                         'rfc__criterion': ['gini'], 'rfc__max_depth': [None],\n",
       "                         'rfc__random_state': [477]},\n",
       "             pre_dispatch='2*n_jobs', refit=True, return_train_score=False,\n",
       "             scoring=None, verbose=True)"
      ]
     },
     "execution_count": 54,
     "metadata": {},
     "output_type": "execute_result"
    }
   ],
   "source": [
    "%%time\n",
    "# using STANDARD SCALER\n",
    "# Setup the pipeline\n",
    "steps = [('scaler', StandardScaler()),\n",
    "         ('rfc', RandomForestClassifier(n_estimators=100))\n",
    "         ]\n",
    "\n",
    "#steps = [('scaler', StandardScaler()),\n",
    "#         ('rfc', RandomForestClassifier(n_estimators=10))\n",
    "#         ]\n",
    "\n",
    "pipeline = Pipeline(steps)\n",
    "\n",
    "# Create the hyperparameter grid\n",
    "#c_space = np.logspace(-5, 8, 15)\n",
    "param_grid = {'rfc__max_depth': [None],\n",
    "                'rfc__class_weight': [None],\n",
    "                 'rfc__criterion' : ['gini'],\n",
    "                 'rfc__random_state' : [seed]}\n",
    "\n",
    "\n",
    "\n",
    "# Instantiate the GridSearchCV object: logreg_cv\n",
    "rfc = GridSearchCV(pipeline, param_grid, cv=5, verbose=True, n_jobs=-1)\n",
    "\n",
    "# Fit it to the training data\n",
    "rfc.fit(X_train, y_train)\n",
    "\n",
    "rfc_predict = rfc.predict(X_test)\n",
    "\n",
    "# Print the optimal parameters and best score\n",
    "print(\"Tuned GridsearchCV Parameter: {}\".format(rfc.best_params_))\n",
    "print(\"Tuned GridsearchCV Accuracy: {}\".format(rfc.best_score_))\n",
    "\n",
    "rfc"
   ]
  },
  {
   "cell_type": "code",
   "execution_count": 55,
   "metadata": {},
   "outputs": [
    {
     "name": "stdout",
     "output_type": "stream",
     "text": [
      "TRAINIG RESULTS: \n",
      "===============================\n",
      "RECALL SCORE:0.9825\n",
      "ACCURACY SCORE:0.9400\n",
      "CONFUSION MATRIX:\n",
      "[[38  5]\n",
      " [ 1 56]]\n",
      "CLASSIFICATION REPORT:\n",
      "              0     1  accuracy  macro avg  weighted avg\n",
      "precision  0.97  0.92      0.94       0.95          0.94\n",
      "recall     0.88  0.98      0.94       0.93          0.94\n",
      "f1-score   0.93  0.95      0.94       0.94          0.94\n",
      "support   43.00 57.00      0.94     100.00        100.00\n",
      "\n",
      "\n",
      "TESTING RESULTS: \n",
      "===============================\n",
      "RECALL SCORE:0.7500\n",
      "ACCURACY SCORE:0.6923\n",
      "CONFUSION MATRIX:\n",
      "[[9 5]\n",
      " [3 9]]\n",
      "F1-score:  0.6923\n",
      "Test ROC AUC: 0.8393 \n",
      "\n",
      "CLASSIFICATION REPORT:\n",
      "              0     1  accuracy  macro avg  weighted avg\n",
      "precision  0.75  0.64      0.69       0.70          0.70\n",
      "recall     0.64  0.75      0.69       0.70          0.69\n",
      "f1-score   0.69  0.69      0.69       0.69          0.69\n",
      "support   14.00 12.00      0.69      26.00         26.00\n"
     ]
    },
    {
     "data": {
      "image/png": "[encoded data removed]",
      "text/plain": [
       "<Figure size 432x288 with 1 Axes>"
      ]
     },
     "metadata": {
      "needs_background": "light"
     },
     "output_type": "display_data"
    }
   ],
   "source": [
    "evaluate(rfc, X_train, X_test, y_train, y_test)"
   ]
  },
  {
   "cell_type": "markdown",
   "metadata": {},
   "source": [
    "## Use GridSearchCV to evaluate different parameter values. Using the selected parameters has a positive impact on RECALL for the TEST SET, which looks promising despite some variability in training set. This type of result indicates an improvement in model fit. To recap, the final model includes the Average as an additonal feature and does not remove any orginal features. The survey results are shifted to be centered around 0, so scores includes negative numbers. Standard scaler is used in combination with Gridsearch to improve model performance."
   ]
  },
  {
   "cell_type": "code",
   "execution_count": 56,
   "metadata": {},
   "outputs": [
    {
     "name": "stdout",
     "output_type": "stream",
     "text": [
      "Fitting 5 folds for each of 24 candidates, totalling 120 fits\n"
     ]
    },
    {
     "name": "stderr",
     "output_type": "stream",
     "text": [
      "[Parallel(n_jobs=-1)]: Using backend LokyBackend with 4 concurrent workers.\n",
      "[Parallel(n_jobs=-1)]: Done  42 tasks      | elapsed:    5.8s\n",
      "[Parallel(n_jobs=-1)]: Done 120 out of 120 | elapsed:   15.5s finished\n"
     ]
    },
    {
     "name": "stdout",
     "output_type": "stream",
     "text": [
      "Tuned GridsearchCV Parameter: {'rfc__class_weight': None, 'rfc__criterion': 'gini', 'rfc__max_depth': 1, 'rfc__random_state': 477}\n",
      "Tuned GridsearchCV Accuracy: 0.57\n",
      "CPU times: user 1.25 s, sys: 57 ms, total: 1.31 s\n",
      "Wall time: 15.7 s\n"
     ]
    },
    {
     "data": {
      "text/plain": [
       "GridSearchCV(cv=5, error_score=nan,\n",
       "             estimator=Pipeline(memory=None,\n",
       "                                steps=[('scaler',\n",
       "                                        StandardScaler(copy=True,\n",
       "                                                       with_mean=True,\n",
       "                                                       with_std=True)),\n",
       "                                       ('rfc',\n",
       "                                        RandomForestClassifier(bootstrap=True,\n",
       "                                                               ccp_alpha=0.0,\n",
       "                                                               class_weight=None,\n",
       "                                                               criterion='gini',\n",
       "                                                               max_depth=None,\n",
       "                                                               max_features='auto',\n",
       "                                                               max_leaf_nodes=None,\n",
       "                                                               max_samples=None,\n",
       "                                                               min_impurity_decrease=0.0,\n",
       "                                                               min_impurity_split=N...\n",
       "                                                               n_jobs=None,\n",
       "                                                               oob_score=False,\n",
       "                                                               random_state=None,\n",
       "                                                               verbose=0,\n",
       "                                                               warm_start=False))],\n",
       "                                verbose=False),\n",
       "             iid='deprecated', n_jobs=-1,\n",
       "             param_grid={'rfc__class_weight': [None, 'balanced'],\n",
       "                         'rfc__criterion': ['gini', 'entropy'],\n",
       "                         'rfc__max_depth': [1, 10, 20, 30, 50, None],\n",
       "                         'rfc__random_state': [477]},\n",
       "             pre_dispatch='2*n_jobs', refit=True, return_train_score=False,\n",
       "             scoring=None, verbose=True)"
      ]
     },
     "execution_count": 56,
     "metadata": {},
     "output_type": "execute_result"
    }
   ],
   "source": [
    "%%time\n",
    "# using STANDARD SCALER\n",
    "# Setup the pipeline\n",
    "steps = [('scaler', StandardScaler()),\n",
    "         ('rfc', RandomForestClassifier(n_estimators=100))\n",
    "         ]\n",
    "\n",
    "#steps = [('scaler', StandardScaler()),\n",
    "#         ('rfc', RandomForestClassifier(n_estimators=10))\n",
    "#         ]\n",
    "\n",
    "pipeline = Pipeline(steps)\n",
    "\n",
    "# Create the hyperparameter grid\n",
    "#c_space = np.logspace(-5, 8, 15)\n",
    "param_grid = {'rfc__max_depth': [1, 10, 20, 30, 50, None],\n",
    "                'rfc__class_weight': [None, 'balanced'],\n",
    "                 'rfc__criterion' : ['gini', 'entropy'],\n",
    "                 'rfc__random_state' : [seed]}\n",
    "\n",
    "\n",
    "\n",
    "\n",
    "# Instantiate the GridSearchCV object: logreg_cv\n",
    "rfc = GridSearchCV(pipeline, param_grid, cv=5, verbose=True, n_jobs=-1)\n",
    "\n",
    "# Fit it to the training data\n",
    "rfc.fit(X_train, y_train)\n",
    "\n",
    "rfc_predict = rfc.predict(X_test)\n",
    "\n",
    "# Print the optimal parameters and best score\n",
    "print(\"Tuned GridsearchCV Parameter: {}\".format(rfc.best_params_))\n",
    "print(\"Tuned GridsearchCV Accuracy: {}\".format(rfc.best_score_))\n",
    "\n",
    "rfc"
   ]
  },
  {
   "cell_type": "code",
   "execution_count": 57,
   "metadata": {},
   "outputs": [
    {
     "name": "stdout",
     "output_type": "stream",
     "text": [
      "TRAINIG RESULTS: \n",
      "===============================\n",
      "RECALL SCORE:0.9474\n",
      "ACCURACY SCORE:0.6100\n",
      "CONFUSION MATRIX:\n",
      "[[ 7 36]\n",
      " [ 3 54]]\n",
      "CLASSIFICATION REPORT:\n",
      "              0     1  accuracy  macro avg  weighted avg\n",
      "precision  0.70  0.60      0.61       0.65          0.64\n",
      "recall     0.16  0.95      0.61       0.56          0.61\n",
      "f1-score   0.26  0.73      0.61       0.50          0.53\n",
      "support   43.00 57.00      0.61     100.00        100.00\n",
      "\n",
      "\n",
      "TESTING RESULTS: \n",
      "===============================\n",
      "RECALL SCORE:0.9167\n",
      "ACCURACY SCORE:0.5000\n",
      "CONFUSION MATRIX:\n",
      "[[ 2 12]\n",
      " [ 1 11]]\n",
      "F1-score:  0.6286\n",
      "Test ROC AUC: 0.7798 \n",
      "\n",
      "CLASSIFICATION REPORT:\n",
      "              0     1  accuracy  macro avg  weighted avg\n",
      "precision  0.67  0.48      0.50       0.57          0.58\n",
      "recall     0.14  0.92      0.50       0.53          0.50\n",
      "f1-score   0.24  0.63      0.50       0.43          0.42\n",
      "support   14.00 12.00      0.50      26.00         26.00\n"
     ]
    },
    {
     "data": {
      "image/png": "[encoded data removed]",
      "text/plain": [
       "<Figure size 432x288 with 1 Axes>"
      ]
     },
     "metadata": {
      "needs_background": "light"
     },
     "output_type": "display_data"
    }
   ],
   "source": [
    "evaluate(rfc, X_train, X_test, y_train, y_test)"
   ]
  },
  {
   "cell_type": "markdown",
   "metadata": {},
   "source": [
    "### The final model has a Train and Test score abve 90% for RECALL, which is a good result, even though the accuracy is in the 60% range. By shifting the scale to be centered around 0 instead of 3, we achieve normalization even better than standard scaler. Including the Average as an additonal feature makes sense as a visualization of the sum of all features, searching for an inflection point when the sum flips from Happy to Unhappy. In order to put that feature on the same scale, we divide by number of features which is taking the average. Feature importance was reviewed using different methods, but the incremental difference made it difficult to determine which feature or features to remove, because the model result is similar with various combinations. Not much time was spent on parameter tuning, because the incremental improvement is relatively small. Additonal methods such as RandomSearchCV instead of GridSearchCV, or hyperopt were considered, but not implemented due to time constraints."
   ]
  }
 ],
 "metadata": {
  "kernelspec": {
   "display_name": "Python 3 (ipykernel)",
   "language": "python",
   "name": "python3"
  },
  "language_info": {
   "codemirror_mode": {
    "name": "ipython",
    "version": 3
   },
   "file_extension": ".py",
   "mimetype": "text/x-python",
   "name": "python",
   "nbconvert_exporter": "python",
   "pygments_lexer": "ipython3",
   "version": "3.7.10"
  }
 },
 "nbformat": 4,
 "nbformat_minor": 4
}
